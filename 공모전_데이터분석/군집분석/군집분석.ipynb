{
 "cells": [
  {
   "cell_type": "code",
   "execution_count": 49,
   "id": "45a192b9",
   "metadata": {},
   "outputs": [],
   "source": [
    "# 라이브러리 불러오기\n",
    "import pandas as pd\n",
    "import numpy as np\n",
    "import seaborn as sns\n",
    "import matplotlib.pyplot as plt\n",
    "\n",
    "# 주성분분석 라이브러리\n",
    "from sklearn.decomposition import PCA\n",
    "\n",
    "# 군집분석 라이브러리\n",
    "from sklearn.cluster import KMeans\n",
    "\n",
    "# 표준화 라이브러리\n",
    "from sklearn.preprocessing import StandardScaler\n",
    "\n",
    "# 그래프 한글 깨짐 방지\n",
    "import matplotlib\n",
    "matplotlib.rcParams['font.family'] ='Malgun Gothic'\n",
    "matplotlib.rcParams['axes.unicode_minus'] =False\n",
    "\n",
    "# 오류 무시\n",
    "import warnings\n",
    "warnings.filterwarnings('ignore')"
   ]
  },
  {
   "cell_type": "code",
   "execution_count": 9,
   "id": "1eb7ee55",
   "metadata": {},
   "outputs": [
    {
     "data": {
      "text/html": [
       "<div>\n",
       "<style scoped>\n",
       "    .dataframe tbody tr th:only-of-type {\n",
       "        vertical-align: middle;\n",
       "    }\n",
       "\n",
       "    .dataframe tbody tr th {\n",
       "        vertical-align: top;\n",
       "    }\n",
       "\n",
       "    .dataframe thead th {\n",
       "        text-align: right;\n",
       "    }\n",
       "</style>\n",
       "<table border=\"1\" class=\"dataframe\">\n",
       "  <thead>\n",
       "    <tr style=\"text-align: right;\">\n",
       "      <th></th>\n",
       "      <th>시군구</th>\n",
       "      <th>방문자 수</th>\n",
       "      <th>관광명소</th>\n",
       "      <th>기타</th>\n",
       "      <th>숙박</th>\n",
       "      <th>음식점</th>\n",
       "      <th>카페</th>\n",
       "      <th>A10</th>\n",
       "      <th>A11</th>\n",
       "      <th>A12</th>\n",
       "    </tr>\n",
       "  </thead>\n",
       "  <tbody>\n",
       "    <tr>\n",
       "      <th>112</th>\n",
       "      <td>성북구</td>\n",
       "      <td>22913019</td>\n",
       "      <td>1</td>\n",
       "      <td>10</td>\n",
       "      <td>0</td>\n",
       "      <td>4</td>\n",
       "      <td>25</td>\n",
       "      <td>0.0</td>\n",
       "      <td>0.0</td>\n",
       "      <td>0.0</td>\n",
       "    </tr>\n",
       "  </tbody>\n",
       "</table>\n",
       "</div>"
      ],
      "text/plain": [
       "     시군구     방문자 수  관광명소  기타  숙박  음식점  카페  A10  A11  A12\n",
       "112  성북구  22913019     1  10   0    4  25  0.0  0.0  0.0"
      ]
     },
     "execution_count": 9,
     "metadata": {},
     "output_type": "execute_result"
    }
   ],
   "source": [
    "df[df['시군구'] =='성북구']"
   ]
  },
  {
   "cell_type": "code",
   "execution_count": 20,
   "id": "64c5d0c6",
   "metadata": {},
   "outputs": [],
   "source": [
    "# 데이터 불러오기\n",
    "df = pd.read_csv('final_animal_visit_travel.csv', encoding = 'cp949')\n",
    "\n",
    "# 성북구와 인천광역시 동구 제외\n",
    "df2 = df[(df['시군구'] != '성북구')&(df['시군구'] != '인천광역시 동구')]\n",
    "\n",
    "# 시군구 제외\n",
    "df3 = df2.drop(columns = '시군구')"
   ]
  },
  {
   "cell_type": "code",
   "execution_count": 23,
   "id": "b61b6e22",
   "metadata": {},
   "outputs": [
    {
     "data": {
      "text/html": [
       "<div>\n",
       "<style scoped>\n",
       "    .dataframe tbody tr th:only-of-type {\n",
       "        vertical-align: middle;\n",
       "    }\n",
       "\n",
       "    .dataframe tbody tr th {\n",
       "        vertical-align: top;\n",
       "    }\n",
       "\n",
       "    .dataframe thead th {\n",
       "        text-align: right;\n",
       "    }\n",
       "</style>\n",
       "<table border=\"1\" class=\"dataframe\">\n",
       "  <thead>\n",
       "    <tr style=\"text-align: right;\">\n",
       "      <th></th>\n",
       "      <th>방문자 수</th>\n",
       "      <th>관광명소</th>\n",
       "      <th>기타</th>\n",
       "      <th>숙박</th>\n",
       "      <th>음식점</th>\n",
       "      <th>카페</th>\n",
       "      <th>A10</th>\n",
       "      <th>A11</th>\n",
       "      <th>A12</th>\n",
       "    </tr>\n",
       "  </thead>\n",
       "  <tbody>\n",
       "    <tr>\n",
       "      <th>0</th>\n",
       "      <td>0.227897</td>\n",
       "      <td>1.726743</td>\n",
       "      <td>0.553670</td>\n",
       "      <td>6.612802</td>\n",
       "      <td>3.756224</td>\n",
       "      <td>1.224118</td>\n",
       "      <td>-0.078488</td>\n",
       "      <td>-0.508321</td>\n",
       "      <td>0.081620</td>\n",
       "    </tr>\n",
       "    <tr>\n",
       "      <th>1</th>\n",
       "      <td>5.175575</td>\n",
       "      <td>-0.407751</td>\n",
       "      <td>0.553670</td>\n",
       "      <td>-0.375440</td>\n",
       "      <td>0.556018</td>\n",
       "      <td>1.168241</td>\n",
       "      <td>-0.513044</td>\n",
       "      <td>0.392763</td>\n",
       "      <td>0.038229</td>\n",
       "    </tr>\n",
       "    <tr>\n",
       "      <th>2</th>\n",
       "      <td>0.325440</td>\n",
       "      <td>-0.407751</td>\n",
       "      <td>-0.191781</td>\n",
       "      <td>-0.438969</td>\n",
       "      <td>-0.468048</td>\n",
       "      <td>0.162461</td>\n",
       "      <td>-3.617013</td>\n",
       "      <td>-0.658502</td>\n",
       "      <td>-0.048551</td>\n",
       "    </tr>\n",
       "    <tr>\n",
       "      <th>3</th>\n",
       "      <td>0.481085</td>\n",
       "      <td>0.756519</td>\n",
       "      <td>0.553670</td>\n",
       "      <td>1.752798</td>\n",
       "      <td>3.500208</td>\n",
       "      <td>1.000611</td>\n",
       "      <td>0.542306</td>\n",
       "      <td>0.392763</td>\n",
       "      <td>-0.959750</td>\n",
       "    </tr>\n",
       "    <tr>\n",
       "      <th>4</th>\n",
       "      <td>-0.002250</td>\n",
       "      <td>-0.601796</td>\n",
       "      <td>-0.340872</td>\n",
       "      <td>-0.438969</td>\n",
       "      <td>0.043985</td>\n",
       "      <td>0.218338</td>\n",
       "      <td>1.970132</td>\n",
       "      <td>-0.258020</td>\n",
       "      <td>-0.352284</td>\n",
       "    </tr>\n",
       "    <tr>\n",
       "      <th>...</th>\n",
       "      <td>...</td>\n",
       "      <td>...</td>\n",
       "      <td>...</td>\n",
       "      <td>...</td>\n",
       "      <td>...</td>\n",
       "      <td>...</td>\n",
       "      <td>...</td>\n",
       "      <td>...</td>\n",
       "      <td>...</td>\n",
       "    </tr>\n",
       "    <tr>\n",
       "      <th>222</th>\n",
       "      <td>-0.200668</td>\n",
       "      <td>0.174384</td>\n",
       "      <td>-0.340872</td>\n",
       "      <td>1.721033</td>\n",
       "      <td>0.043985</td>\n",
       "      <td>-0.396306</td>\n",
       "      <td>0.480226</td>\n",
       "      <td>0.492884</td>\n",
       "      <td>0.472133</td>\n",
       "    </tr>\n",
       "    <tr>\n",
       "      <th>223</th>\n",
       "      <td>2.033302</td>\n",
       "      <td>1.726743</td>\n",
       "      <td>2.640934</td>\n",
       "      <td>0.291620</td>\n",
       "      <td>0.428010</td>\n",
       "      <td>2.844542</td>\n",
       "      <td>0.045671</td>\n",
       "      <td>-0.157899</td>\n",
       "      <td>0.038229</td>\n",
       "    </tr>\n",
       "    <tr>\n",
       "      <th>224</th>\n",
       "      <td>-0.633747</td>\n",
       "      <td>-0.019661</td>\n",
       "      <td>-0.489962</td>\n",
       "      <td>-0.343675</td>\n",
       "      <td>-0.468048</td>\n",
       "      <td>-0.396306</td>\n",
       "      <td>1.411417</td>\n",
       "      <td>0.542944</td>\n",
       "      <td>-0.005161</td>\n",
       "    </tr>\n",
       "    <tr>\n",
       "      <th>225</th>\n",
       "      <td>-0.970993</td>\n",
       "      <td>-0.213706</td>\n",
       "      <td>-0.788142</td>\n",
       "      <td>-0.121322</td>\n",
       "      <td>-0.724064</td>\n",
       "      <td>-0.843319</td>\n",
       "      <td>-1.133838</td>\n",
       "      <td>0.893366</td>\n",
       "      <td>0.602305</td>\n",
       "    </tr>\n",
       "    <tr>\n",
       "      <th>226</th>\n",
       "      <td>-0.620812</td>\n",
       "      <td>-0.407751</td>\n",
       "      <td>-1.086323</td>\n",
       "      <td>0.513973</td>\n",
       "      <td>-0.468048</td>\n",
       "      <td>-0.619813</td>\n",
       "      <td>-0.637202</td>\n",
       "      <td>0.943426</td>\n",
       "      <td>0.689085</td>\n",
       "    </tr>\n",
       "  </tbody>\n",
       "</table>\n",
       "<p>227 rows × 9 columns</p>\n",
       "</div>"
      ],
      "text/plain": [
       "        방문자 수      관광명소        기타        숙박       음식점        카페       A10  \\\n",
       "0    0.227897  1.726743  0.553670  6.612802  3.756224  1.224118 -0.078488   \n",
       "1    5.175575 -0.407751  0.553670 -0.375440  0.556018  1.168241 -0.513044   \n",
       "2    0.325440 -0.407751 -0.191781 -0.438969 -0.468048  0.162461 -3.617013   \n",
       "3    0.481085  0.756519  0.553670  1.752798  3.500208  1.000611  0.542306   \n",
       "4   -0.002250 -0.601796 -0.340872 -0.438969  0.043985  0.218338  1.970132   \n",
       "..        ...       ...       ...       ...       ...       ...       ...   \n",
       "222 -0.200668  0.174384 -0.340872  1.721033  0.043985 -0.396306  0.480226   \n",
       "223  2.033302  1.726743  2.640934  0.291620  0.428010  2.844542  0.045671   \n",
       "224 -0.633747 -0.019661 -0.489962 -0.343675 -0.468048 -0.396306  1.411417   \n",
       "225 -0.970993 -0.213706 -0.788142 -0.121322 -0.724064 -0.843319 -1.133838   \n",
       "226 -0.620812 -0.407751 -1.086323  0.513973 -0.468048 -0.619813 -0.637202   \n",
       "\n",
       "          A11       A12  \n",
       "0   -0.508321  0.081620  \n",
       "1    0.392763  0.038229  \n",
       "2   -0.658502 -0.048551  \n",
       "3    0.392763 -0.959750  \n",
       "4   -0.258020 -0.352284  \n",
       "..        ...       ...  \n",
       "222  0.492884  0.472133  \n",
       "223 -0.157899  0.038229  \n",
       "224  0.542944 -0.005161  \n",
       "225  0.893366  0.602305  \n",
       "226  0.943426  0.689085  \n",
       "\n",
       "[227 rows x 9 columns]"
      ]
     },
     "execution_count": 23,
     "metadata": {},
     "output_type": "execute_result"
    }
   ],
   "source": [
    "# 표준화\n",
    "sc = StandardScaler()\n",
    "df_scaled = sc.fit_transform(df3)\n",
    "pd.DataFrame(df_scaled, columns = df3.columns)"
   ]
  },
  {
   "cell_type": "code",
   "execution_count": 35,
   "id": "f767946f",
   "metadata": {},
   "outputs": [],
   "source": [
    "class myPCA:\n",
    "    def __init__(self, explained_var_ratio_thres=0.7):\n",
    "        self.explained_var_ratio_thres = explained_var_ratio_thres\n",
    "        self.n_components = None ## 최종 선택된 주성분 개수\n",
    "        self.explained_var = None ## 주성분별 분산 설명 비율\n",
    "        self.components = None ## 성분(축)\n",
    "        self.principal_components = None ## 주성분\n",
    "        self.total_variance = None ## 총 데이터 분산\n",
    "        self.pc_variable_corr_mat = None ## 주성분과 변수간 상관 행렬\n",
    "        \n",
    "    def fit(self, X):\n",
    "        c = self.explained_var_ratio_thres\n",
    "        X = X - np.mean(X, axis=0)\n",
    "        n = X.shape[0]\n",
    "        variance_X = (1/(n-1))*X.T @ X\n",
    "        eigen_value, eigen_vector = np.linalg.eig(variance_X)\n",
    "        total_variance = np.sum(eigen_value)\n",
    " \n",
    "        eigen_value, eigen_vector = np.linalg.eig(variance_X)\n",
    "        total_variance = np.sum(eigen_value) ## 데이터 총 분산\n",
    "        explained_var = eigen_value/total_variance ## 주성분별 분산 설명 비율\n",
    "        \n",
    "        ## 누적 분산 설명 비율이 c를 넘는 최초 인덱스\n",
    "        last_idx = np.min(np.where(np.cumsum(explained_var) > c)[0]) \n",
    "        \n",
    "        self.n_components = last_idx+1\n",
    "        self.pc_var = eigen_value[:last_idx+1]\n",
    "        self.explained_var = self.pc_var/total_variance\n",
    "        self.components = eigen_vector[:, :last_idx+1]\n",
    "        self.principal_components = X@eigen_vector[:, :last_idx+1]\n",
    "        self.total_variance = total_variance\n",
    "        \n",
    "        pc_variable_corr_mat = np.zeros((last_idx+1, X.shape[1]))\n",
    "        for i in range(last_idx+1):\n",
    "            for j in range(X.shape[1]):\n",
    "                pc = self.principal_components[:, i]\n",
    "                variable = X[:, j]\n",
    "                pc_variable_corr_mat[i, j] = np.corrcoef(pc, variable)[0,1]\n",
    "        self.pc_variable_corr_mat = pc_variable_corr_mat\n",
    "        return self"
   ]
  },
  {
   "cell_type": "code",
   "execution_count": 41,
   "id": "7bf9b29d",
   "metadata": {},
   "outputs": [
    {
     "data": {
      "text/plain": [
       "3"
      ]
     },
     "execution_count": 41,
     "metadata": {},
     "output_type": "execute_result"
    }
   ],
   "source": [
    "pca = myPCA(0.7).fit(df_scaled)\n",
    "pca.n_components"
   ]
  },
  {
   "cell_type": "code",
   "execution_count": 40,
   "id": "eb605d14",
   "metadata": {},
   "outputs": [
    {
     "data": {
      "text/plain": [
       "array([0.41061557, 0.19986614, 0.16364267, 0.0948138 ])"
      ]
     },
     "execution_count": 40,
     "metadata": {},
     "output_type": "execute_result"
    }
   ],
   "source": [
    "pca.explained_var"
   ]
  },
  {
   "cell_type": "code",
   "execution_count": 42,
   "id": "5c94417e",
   "metadata": {},
   "outputs": [
    {
     "data": {
      "text/plain": [
       "array([[ 0.36773809,  0.04999602, -0.43057931],\n",
       "       [ 0.3855118 , -0.11163983,  0.41484406],\n",
       "       [ 0.45404389, -0.04135139, -0.00504242],\n",
       "       [ 0.30886535, -0.08584854,  0.50614395],\n",
       "       [ 0.46309422, -0.06121313, -0.05927511],\n",
       "       [ 0.43675344,  0.01706149, -0.34941743],\n",
       "       [ 0.02833809,  0.02016414,  0.49684149],\n",
       "       [ 0.05528983,  0.70086437,  0.0371458 ],\n",
       "       [ 0.07433607,  0.69303783,  0.11163056]])"
      ]
     },
     "execution_count": 42,
     "metadata": {},
     "output_type": "execute_result"
    }
   ],
   "source": [
    "pca.components"
   ]
  },
  {
   "cell_type": "code",
   "execution_count": 43,
   "id": "387f5909",
   "metadata": {},
   "outputs": [
    {
     "data": {
      "text/plain": [
       "array([[ 0.70693189,  0.74109971,  0.87284434,  0.5937562 ,  0.8902425 ,\n",
       "         0.83960554,  0.05447654,  0.106288  ,  0.14290209],\n",
       "       [ 0.06705425, -0.14973042, -0.05546014, -0.11513936, -0.08209854,\n",
       "         0.02288273,  0.02704398,  0.93999351,  0.92949661],\n",
       "       [-0.52254379,  0.50344776, -0.0061194 ,  0.61424777, -0.07193527,\n",
       "        -0.4240471 ,  0.60295845,  0.04507952,  0.13547296]])"
      ]
     },
     "execution_count": 43,
     "metadata": {},
     "output_type": "execute_result"
    }
   ],
   "source": [
    "pca.pc_variable_corr_mat"
   ]
  },
  {
   "cell_type": "code",
   "execution_count": 44,
   "id": "01f5277f",
   "metadata": {},
   "outputs": [],
   "source": [
    "# 주성분분석 실시\n",
    "pca = PCA(random_state = 42)\n",
    "x_p = pca.fit_transform(df_scaled)"
   ]
  },
  {
   "cell_type": "code",
   "execution_count": 46,
   "id": "891f6091",
   "metadata": {},
   "outputs": [],
   "source": [
    "x_pp = pd.DataFrame(x_p[:, :3], columns = ['PC1', 'PC2', 'PC3'], index = df2.index)"
   ]
  },
  {
   "cell_type": "code",
   "execution_count": 47,
   "id": "87e019a4",
   "metadata": {},
   "outputs": [
    {
     "data": {
      "text/html": [
       "<div>\n",
       "<style scoped>\n",
       "    .dataframe tbody tr th:only-of-type {\n",
       "        vertical-align: middle;\n",
       "    }\n",
       "\n",
       "    .dataframe tbody tr th {\n",
       "        vertical-align: top;\n",
       "    }\n",
       "\n",
       "    .dataframe thead th {\n",
       "        text-align: right;\n",
       "    }\n",
       "</style>\n",
       "<table border=\"1\" class=\"dataframe\">\n",
       "  <thead>\n",
       "    <tr style=\"text-align: right;\">\n",
       "      <th></th>\n",
       "      <th>PC1</th>\n",
       "      <th>PC2</th>\n",
       "      <th>PC3</th>\n",
       "    </tr>\n",
       "  </thead>\n",
       "  <tbody>\n",
       "    <tr>\n",
       "      <th>0</th>\n",
       "      <td>5.293204</td>\n",
       "      <td>1.282300</td>\n",
       "      <td>3.263294</td>\n",
       "    </tr>\n",
       "    <tr>\n",
       "      <th>1</th>\n",
       "      <td>2.659235</td>\n",
       "      <td>-0.590935</td>\n",
       "      <td>-3.267673</td>\n",
       "    </tr>\n",
       "    <tr>\n",
       "      <th>2</th>\n",
       "      <td>-0.548487</td>\n",
       "      <td>0.429273</td>\n",
       "      <td>-2.386481</td>\n",
       "    </tr>\n",
       "    <tr>\n",
       "      <th>3</th>\n",
       "      <td>3.285015</td>\n",
       "      <td>0.809896</td>\n",
       "      <td>0.610854</td>\n",
       "    </tr>\n",
       "    <tr>\n",
       "      <th>4</th>\n",
       "      <td>-0.392074</td>\n",
       "      <td>0.265372</td>\n",
       "      <td>0.381890</td>\n",
       "    </tr>\n",
       "    <tr>\n",
       "      <th>...</th>\n",
       "      <td>...</td>\n",
       "      <td>...</td>\n",
       "      <td>...</td>\n",
       "    </tr>\n",
       "    <tr>\n",
       "      <th>224</th>\n",
       "      <td>0.293469</td>\n",
       "      <td>-0.509727</td>\n",
       "      <td>1.477033</td>\n",
       "    </tr>\n",
       "    <tr>\n",
       "      <th>225</th>\n",
       "      <td>4.138552</td>\n",
       "      <td>0.286276</td>\n",
       "      <td>-1.023093</td>\n",
       "    </tr>\n",
       "    <tr>\n",
       "      <th>226</th>\n",
       "      <td>-0.889451</td>\n",
       "      <td>-0.447577</td>\n",
       "      <td>0.980306</td>\n",
       "    </tr>\n",
       "    <tr>\n",
       "      <th>227</th>\n",
       "      <td>-1.476377</td>\n",
       "      <td>-1.068938</td>\n",
       "      <td>0.146675</td>\n",
       "    </tr>\n",
       "    <tr>\n",
       "      <th>228</th>\n",
       "      <td>-1.122106</td>\n",
       "      <td>-1.159283</td>\n",
       "      <td>0.403473</td>\n",
       "    </tr>\n",
       "  </tbody>\n",
       "</table>\n",
       "<p>227 rows × 3 columns</p>\n",
       "</div>"
      ],
      "text/plain": [
       "          PC1       PC2       PC3\n",
       "0    5.293204  1.282300  3.263294\n",
       "1    2.659235 -0.590935 -3.267673\n",
       "2   -0.548487  0.429273 -2.386481\n",
       "3    3.285015  0.809896  0.610854\n",
       "4   -0.392074  0.265372  0.381890\n",
       "..        ...       ...       ...\n",
       "224  0.293469 -0.509727  1.477033\n",
       "225  4.138552  0.286276 -1.023093\n",
       "226 -0.889451 -0.447577  0.980306\n",
       "227 -1.476377 -1.068938  0.146675\n",
       "228 -1.122106 -1.159283  0.403473\n",
       "\n",
       "[227 rows x 3 columns]"
      ]
     },
     "execution_count": 47,
     "metadata": {},
     "output_type": "execute_result"
    }
   ],
   "source": [
    "x_pp"
   ]
  },
  {
   "cell_type": "code",
   "execution_count": 59,
   "id": "3bd28b08",
   "metadata": {},
   "outputs": [],
   "source": [
    "x_pp['시군구'] = df2.시군구"
   ]
  },
  {
   "cell_type": "code",
   "execution_count": 63,
   "id": "39ff0bf8",
   "metadata": {},
   "outputs": [
    {
     "data": {
      "image/png": "[encoded data removed]",
      "text/plain": [
       "<Figure size 432x288 with 1 Axes>"
      ]
     },
     "metadata": {
      "needs_background": "light"
     },
     "output_type": "display_data"
    }
   ],
   "source": [
    "plt.scatter(\n",
    "    x_pp['PC1'],\n",
    "    x_pp['PC2'],\n",
    "    c= 'white',\n",
    "    marker = 'o',\n",
    "    edgecolor = 'black',\n",
    "    s= 50)\n",
    "plt.xlabel('PC1')\n",
    "plt.ylabel('PC2')\n",
    "\n",
    "for i in range(len(x_pp)):\n",
    "    row = x_pp.iloc[i]\n",
    "    name = row['시군구']\n",
    "    x = row['PC1']\n",
    "    y = row['PC2']\n",
    "    \n",
    "    plt.text(x, y, name)\n",
    "    \n",
    "plt.show()"
   ]
  },
  {
   "cell_type": "code",
   "execution_count": 51,
   "id": "9eb73a30",
   "metadata": {},
   "outputs": [
    {
     "data": {
      "text/plain": [
       "<matplotlib.collections.PathCollection at 0x2623fe01f40>"
      ]
     },
     "execution_count": 51,
     "metadata": {},
     "output_type": "execute_result"
    },
    {
     "data": {
      "image/png": "[encoded data removed]",
      "text/plain": [
       "<Figure size 432x288 with 1 Axes>"
      ]
     },
     "metadata": {
      "needs_background": "light"
     },
     "output_type": "display_data"
    }
   ],
   "source": [
    "plt.scatter(\n",
    "    x_pp['PC1'],\n",
    "    x_pp['PC3'],\n",
    "    c= 'white',\n",
    "    marker = 'o',\n",
    "    edgecolor = 'black',\n",
    "    s= 50)\n",
    "plt.xlabel('PC1')\n",
    "plt.ylabel('PC3')"
   ]
  },
  {
   "cell_type": "code",
   "execution_count": 64,
   "id": "bc6157f3",
   "metadata": {},
   "outputs": [
    {
     "data": {
      "text/plain": [
       "Text(0, 0.5, 'PC3')"
      ]
     },
     "execution_count": 64,
     "metadata": {},
     "output_type": "execute_result"
    },
    {
     "data": {
      "image/png": "[encoded data removed]",
      "text/plain": [
       "<Figure size 432x288 with 1 Axes>"
      ]
     },
     "metadata": {
      "needs_background": "light"
     },
     "output_type": "display_data"
    }
   ],
   "source": [
    "plt.scatter(x_pp['PC2'],\n",
    "            x_pp['PC3'],\n",
    "            c= 'white',\n",
    "            marker = 'o',\n",
    "            edgecolor = 'black',\n",
    "            s= 50)\n",
    "plt.xlabel('PC2')\n",
    "plt.ylabel('PC3')"
   ]
  },
  {
   "cell_type": "code",
   "execution_count": 67,
   "id": "497d7570",
   "metadata": {},
   "outputs": [],
   "source": [
    "x_pp[['시군구', 'PC1', 'PC2', 'PC3']].to_csv('df_pca.csv', encoding ='cp949')"
   ]
  },
  {
   "cell_type": "code",
   "execution_count": null,
   "id": "e52be29d",
   "metadata": {},
   "outputs": [],
   "source": []
  }
 ],
 "metadata": {
  "kernelspec": {
   "display_name": "Python 3 (ipykernel)",
   "language": "python",
   "name": "python3"
  },
  "language_info": {
   "codemirror_mode": {
    "name": "ipython",
    "version": 3
   },
   "file_extension": ".py",
   "mimetype": "text/x-python",
   "name": "python",
   "nbconvert_exporter": "python",
   "pygments_lexer": "ipython3",
   "version": "3.9.7"
  }
 },
 "nbformat": 4,
 "nbformat_minor": 5
}
