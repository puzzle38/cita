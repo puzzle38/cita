{
 "cells": [
  {
   "cell_type": "markdown",
   "id": "30bc5ef3",
   "metadata": {},
   "source": [
    "# 요인분석"
   ]
  },
  {
   "cell_type": "markdown",
   "id": "cf08f812",
   "metadata": {},
   "source": [
    "요인분석이란 관측된 변수 집합에서 영향력 있는 기본 요인 또는 잠재 요인을 검색하는 데 사용되는 탐색적 데이터 분석방법이다.<br>\n",
    "전체 데이터를 설명하는 변수의 수를 줄여 데이터 해석에도 도움이 된다.<br>\n",
    "모든 변수에서 최대 공통 분산을 추출하여 공통 점수에 넣는다.<br>\n",
    "요인분석은 시장조사, 광고, 심리, 금융 및 운영 연구에 널리 사용된다.<br>\n",
    "마켓 리서처는 가격에 민감한 고객을 파악하고, 소비자 선택에 영향을 미치는 브랜드 특징을 식별하며, 유통 채널의 채널 선택 기준을 이해하는데 도움을 준다."
   ]
  },
  {
   "cell_type": "markdown",
   "id": "76a52ff7",
   "metadata": {},
   "source": [
    "요인분석은 선형통계 모형이다. <br>\n",
    "관측 변수 간의 분산을 설명하고 관측 변수 집합을 요인이라고 하는 관측되지 않은 변수로 압축하는데 사용된다.<br>\n",
    "관측 변수는 요인 및 오차항의 선형조합으로 모형화된다.<br>\n",
    "요인 또는 잠재 변수는 공통적인 반응 패턴을 갖는 여러 관측 변수와 관련이 있다.<br>\n",
    "각 요인은 관측된 변수의 특정 분산 양을 설명한다."
   ]
  },
  {
   "cell_type": "markdown",
   "id": "f57a0117",
   "metadata": {},
   "source": [
    "## 요인분석의 가정\n",
    "1. 데이터에는 특이치가 없다.\n",
    "2. 표본 크기는 요인보다 커야 한다.\n",
    "3. 완벽한 다중 공선성은 없어야 한다.\n",
    "4. 변수들 사이에 동질성이 있어서는 안된다."
   ]
  },
  {
   "cell_type": "markdown",
   "id": "4d500c44",
   "metadata": {},
   "source": [
    "## 요인분석 유형\n",
    "- 탐색적 요인 분석 : 사회 및 경영 연구에 주로 사용되는 요인 분석 접근법이다. 기본적인 가정은 관측 변수가 어떤 요인과 직접적으로 연관되어 있는 것이다.\n",
    "- 확인적 요인 분석(CFA) : 기본 가정은 각 요인이 특정 관측 변수 집합과 연관되어 있다는 것이다. CFA는 기본적으로 기대되는 것을 확인한다."
   ]
  },
  {
   "cell_type": "markdown",
   "id": "c94ec5d1",
   "metadata": {},
   "source": [
    "## 요인분석 작동원리\n",
    "요인분석의 주요목적은 관측변수의 수를 줄이고 관측할 수 없는 변수를 찾는것이다.<br>\n",
    "관측되지 않는 변수는 시장 리서처가 조사를 마무리하는 데 도움이 된다. <br>\n",
    "관측 변수를 관측되지 않은 변수로 변환하는 작업은 두가지 단ㄴ계를 통해 수행할 수 있다. <br>\n",
    "- 요인 추출 : 이 단계에서는 주성분 분석 및 공통 요인 분석과 같은 분산 분할 방법을 사용하여 요인 수 및 추출방법을 사용한다.\n",
    "- 요인 회전 : 이 단계에서 회전은 요인을 상관관계가 없는 요인으로 변환하려고 시도한다. 이 단계의 목표는 전체적인 해석 능력을 향상시키기 위한 것이다. 회전 방법에는 Varimax 회전방법, Quarimax 회전방법, Promax 회전방법 등이 있다."
   ]
  },
  {
   "cell_type": "markdown",
   "id": "401513fa",
   "metadata": {},
   "source": [
    "## 용어\n",
    "### 요인이란?\n",
    "요인은 관측된 변수의 수 사이의 연관성을 설명하는 잠재변수이다.<br>\n",
    "요인의 최대 수는 관측된 변수의 수와 같다.<br>\n",
    "모든 요인은 관측된 변수의 특정 분산을 설명한다. 분산의 양이 가장 적은 요인은 제거된다.<br>\n",
    "### 요인 적재량이란?\n",
    "요인 적재량은 각 변수와 잠재 요인과 관계를 보여주는 행렬이다.<br>\n",
    "관측된 변수와 요인에 대한 상관계수가 표시된다.<br>\n",
    "### 고유값이란?\n",
    "고유값은 전체 분산에서 각 요인을 설명한다.<br>\n",
    "### 공통분이란?\n",
    "공통분은 각 변수의 적재량 제곱의 합이다.<br>\n",
    "이것은 공통 분산을 나타낸다. <br>\n",
    "범위는 0~1이고 1에 가까운 값은 더많은 분산을 나타낸다.<br>\n",
    "### 요인회전이란?\n",
    "회전은 요인 분석을 더 잘 해석하기 위한 도구이다.<br>\n",
    "회전은 직각 또는 사선일 수 있다.<br>\n",
    "명확한 적재량 패턴으로 공통분을 재배포한다."
   ]
  },
  {
   "cell_type": "markdown",
   "id": "d1578993",
   "metadata": {},
   "source": [
    "## 요인 수 선택\n",
    "카이저 기준은 분석적 접근법으로, 요인별로 설명되는 더 유의미한 분산 비율을 기준으로 선택한다.<br>\n",
    "고유값은 요인 수를 결정하는 데 좋은 기준이다.<br>\n",
    "일반적으로 1보다 큰 고유값은 피쳐의 선택 기준으로 간주된다.<br>\n",
    "그래픽 접근법은 스크리 플롯이라고도 하는 요인의 고유값을 시각적으로 표현한 것에 기초한다.<br>\n",
    "스크리 플롯의 곡선이 엘보우를 만드는 요인의 수를 결정하는 데 도움이 된다."
   ]
  },
  {
   "cell_type": "markdown",
   "id": "818fc89e",
   "metadata": {},
   "source": [
    "## 요인분석 vs 주성분분석(PCA)\n",
    "- PCA는 최대 분산 양을 설명하는 반면 요인 분석은 데이터의 공분산을 설명한다.\n",
    "- PCA는 서로 완전히 직교하지만 요인분석에서는 요인이 직교할 필요가 없다.\n",
    "- PCA는 관측된 변수의 선형조합인 반면 요인 분석에서 관측된 변수는 관측되지 않은 변수 또는 요인의 선형조합이다.\n",
    "- PCA 구성 요소는 해석할 수 없는 반면 요인 분석에서 기본 요인은 레이블링 및 해석 가능하다.\n",
    "- PCA는 일종의 차원 축소 방법인 반면 요인 분석은 잠재 변수 방법이다.\n",
    "- PCA는 요인 분석의 한 유형이다. FA는 모델링 기술인 반면 PCA는 관찰 기술이다."
   ]
  },
  {
   "cell_type": "markdown",
   "id": "4a4c9757",
   "metadata": {},
   "source": [
    "# 요인분석 예제 실습"
   ]
  },
  {
   "cell_type": "code",
   "execution_count": 5,
   "id": "905a644e",
   "metadata": {},
   "outputs": [],
   "source": [
    "# 라이브러리 불러오기\n",
    "import pandas as pd\n",
    "\n",
    "from sklearn.datasets import load_iris\n",
    "\n",
    "from factor_analyzer import FactorAnalyzer\n",
    "\n",
    "import matplotlib.pyplot as plt"
   ]
  },
  {
   "cell_type": "code",
   "execution_count": 10,
   "id": "61e40f37",
   "metadata": {},
   "outputs": [],
   "source": [
    "# 데이터 불러오기\n",
    "df = pd.read_csv('bfi.csv')"
   ]
  },
  {
   "cell_type": "code",
   "execution_count": 12,
   "id": "bef23340",
   "metadata": {},
   "outputs": [
    {
     "data": {
      "text/plain": [
       "Index(['Unnamed: 0', 'A1', 'A2', 'A3', 'A4', 'A5', 'C1', 'C2', 'C3', 'C4',\n",
       "       'C5', 'E1', 'E2', 'E3', 'E4', 'E5', 'N1', 'N2', 'N3', 'N4', 'N5', 'O1',\n",
       "       'O2', 'O3', 'O4', 'O5', 'gender', 'education', 'age'],\n",
       "      dtype='object')"
      ]
     },
     "execution_count": 12,
     "metadata": {},
     "output_type": "execute_result"
    }
   ],
   "source": [
    "# 컬럼명 확인\n",
    "df.columns"
   ]
  },
  {
   "cell_type": "code",
   "execution_count": 13,
   "id": "71fa7c04",
   "metadata": {},
   "outputs": [],
   "source": [
    "# 필요없는 컬럼 제거\n",
    "df.drop(['gender','education','age','Unnamed: 0'], axis=1, inplace = True)"
   ]
  },
  {
   "cell_type": "code",
   "execution_count": 15,
   "id": "975a24e3",
   "metadata": {},
   "outputs": [],
   "source": [
    "# 결측치 제거\n",
    "df.dropna(inplace=True)"
   ]
  },
  {
   "cell_type": "code",
   "execution_count": 16,
   "id": "e56d1494",
   "metadata": {},
   "outputs": [
    {
     "name": "stdout",
     "output_type": "stream",
     "text": [
      "<class 'pandas.core.frame.DataFrame'>\n",
      "Int64Index: 2436 entries, 0 to 2799\n",
      "Data columns (total 25 columns):\n",
      " #   Column  Non-Null Count  Dtype  \n",
      "---  ------  --------------  -----  \n",
      " 0   A1      2436 non-null   float64\n",
      " 1   A2      2436 non-null   float64\n",
      " 2   A3      2436 non-null   float64\n",
      " 3   A4      2436 non-null   float64\n",
      " 4   A5      2436 non-null   float64\n",
      " 5   C1      2436 non-null   float64\n",
      " 6   C2      2436 non-null   float64\n",
      " 7   C3      2436 non-null   float64\n",
      " 8   C4      2436 non-null   float64\n",
      " 9   C5      2436 non-null   float64\n",
      " 10  E1      2436 non-null   float64\n",
      " 11  E2      2436 non-null   float64\n",
      " 12  E3      2436 non-null   float64\n",
      " 13  E4      2436 non-null   float64\n",
      " 14  E5      2436 non-null   float64\n",
      " 15  N1      2436 non-null   float64\n",
      " 16  N2      2436 non-null   float64\n",
      " 17  N3      2436 non-null   float64\n",
      " 18  N4      2436 non-null   float64\n",
      " 19  N5      2436 non-null   float64\n",
      " 20  O1      2436 non-null   float64\n",
      " 21  O2      2436 non-null   int64  \n",
      " 22  O3      2436 non-null   float64\n",
      " 23  O4      2436 non-null   float64\n",
      " 24  O5      2436 non-null   float64\n",
      "dtypes: float64(24), int64(1)\n",
      "memory usage: 494.8 KB\n"
     ]
    }
   ],
   "source": [
    "# df의 데이터 정보보기\n",
    "df.info()"
   ]
  },
  {
   "cell_type": "code",
   "execution_count": 17,
   "id": "af4b5c43",
   "metadata": {},
   "outputs": [
    {
     "data": {
      "text/html": [
       "<div>\n",
       "<style scoped>\n",
       "    .dataframe tbody tr th:only-of-type {\n",
       "        vertical-align: middle;\n",
       "    }\n",
       "\n",
       "    .dataframe tbody tr th {\n",
       "        vertical-align: top;\n",
       "    }\n",
       "\n",
       "    .dataframe thead th {\n",
       "        text-align: right;\n",
       "    }\n",
       "</style>\n",
       "<table border=\"1\" class=\"dataframe\">\n",
       "  <thead>\n",
       "    <tr style=\"text-align: right;\">\n",
       "      <th></th>\n",
       "      <th>A1</th>\n",
       "      <th>A2</th>\n",
       "      <th>A3</th>\n",
       "      <th>A4</th>\n",
       "      <th>A5</th>\n",
       "      <th>C1</th>\n",
       "      <th>C2</th>\n",
       "      <th>C3</th>\n",
       "      <th>C4</th>\n",
       "      <th>C5</th>\n",
       "      <th>...</th>\n",
       "      <th>N1</th>\n",
       "      <th>N2</th>\n",
       "      <th>N3</th>\n",
       "      <th>N4</th>\n",
       "      <th>N5</th>\n",
       "      <th>O1</th>\n",
       "      <th>O2</th>\n",
       "      <th>O3</th>\n",
       "      <th>O4</th>\n",
       "      <th>O5</th>\n",
       "    </tr>\n",
       "  </thead>\n",
       "  <tbody>\n",
       "    <tr>\n",
       "      <th>0</th>\n",
       "      <td>2.0</td>\n",
       "      <td>4.0</td>\n",
       "      <td>3.0</td>\n",
       "      <td>4.0</td>\n",
       "      <td>4.0</td>\n",
       "      <td>2.0</td>\n",
       "      <td>3.0</td>\n",
       "      <td>3.0</td>\n",
       "      <td>4.0</td>\n",
       "      <td>4.0</td>\n",
       "      <td>...</td>\n",
       "      <td>3.0</td>\n",
       "      <td>4.0</td>\n",
       "      <td>2.0</td>\n",
       "      <td>2.0</td>\n",
       "      <td>3.0</td>\n",
       "      <td>3.0</td>\n",
       "      <td>6</td>\n",
       "      <td>3.0</td>\n",
       "      <td>4.0</td>\n",
       "      <td>3.0</td>\n",
       "    </tr>\n",
       "    <tr>\n",
       "      <th>1</th>\n",
       "      <td>2.0</td>\n",
       "      <td>4.0</td>\n",
       "      <td>5.0</td>\n",
       "      <td>2.0</td>\n",
       "      <td>5.0</td>\n",
       "      <td>5.0</td>\n",
       "      <td>4.0</td>\n",
       "      <td>4.0</td>\n",
       "      <td>3.0</td>\n",
       "      <td>4.0</td>\n",
       "      <td>...</td>\n",
       "      <td>3.0</td>\n",
       "      <td>3.0</td>\n",
       "      <td>3.0</td>\n",
       "      <td>5.0</td>\n",
       "      <td>5.0</td>\n",
       "      <td>4.0</td>\n",
       "      <td>2</td>\n",
       "      <td>4.0</td>\n",
       "      <td>3.0</td>\n",
       "      <td>3.0</td>\n",
       "    </tr>\n",
       "    <tr>\n",
       "      <th>2</th>\n",
       "      <td>5.0</td>\n",
       "      <td>4.0</td>\n",
       "      <td>5.0</td>\n",
       "      <td>4.0</td>\n",
       "      <td>4.0</td>\n",
       "      <td>4.0</td>\n",
       "      <td>5.0</td>\n",
       "      <td>4.0</td>\n",
       "      <td>2.0</td>\n",
       "      <td>5.0</td>\n",
       "      <td>...</td>\n",
       "      <td>4.0</td>\n",
       "      <td>5.0</td>\n",
       "      <td>4.0</td>\n",
       "      <td>2.0</td>\n",
       "      <td>3.0</td>\n",
       "      <td>4.0</td>\n",
       "      <td>2</td>\n",
       "      <td>5.0</td>\n",
       "      <td>5.0</td>\n",
       "      <td>2.0</td>\n",
       "    </tr>\n",
       "    <tr>\n",
       "      <th>3</th>\n",
       "      <td>4.0</td>\n",
       "      <td>4.0</td>\n",
       "      <td>6.0</td>\n",
       "      <td>5.0</td>\n",
       "      <td>5.0</td>\n",
       "      <td>4.0</td>\n",
       "      <td>4.0</td>\n",
       "      <td>3.0</td>\n",
       "      <td>5.0</td>\n",
       "      <td>5.0</td>\n",
       "      <td>...</td>\n",
       "      <td>2.0</td>\n",
       "      <td>5.0</td>\n",
       "      <td>2.0</td>\n",
       "      <td>4.0</td>\n",
       "      <td>1.0</td>\n",
       "      <td>3.0</td>\n",
       "      <td>3</td>\n",
       "      <td>4.0</td>\n",
       "      <td>3.0</td>\n",
       "      <td>5.0</td>\n",
       "    </tr>\n",
       "    <tr>\n",
       "      <th>4</th>\n",
       "      <td>2.0</td>\n",
       "      <td>3.0</td>\n",
       "      <td>3.0</td>\n",
       "      <td>4.0</td>\n",
       "      <td>5.0</td>\n",
       "      <td>4.0</td>\n",
       "      <td>4.0</td>\n",
       "      <td>5.0</td>\n",
       "      <td>3.0</td>\n",
       "      <td>2.0</td>\n",
       "      <td>...</td>\n",
       "      <td>2.0</td>\n",
       "      <td>3.0</td>\n",
       "      <td>4.0</td>\n",
       "      <td>4.0</td>\n",
       "      <td>3.0</td>\n",
       "      <td>3.0</td>\n",
       "      <td>3</td>\n",
       "      <td>4.0</td>\n",
       "      <td>3.0</td>\n",
       "      <td>3.0</td>\n",
       "    </tr>\n",
       "  </tbody>\n",
       "</table>\n",
       "<p>5 rows × 25 columns</p>\n",
       "</div>"
      ],
      "text/plain": [
       "    A1   A2   A3   A4   A5   C1   C2   C3   C4   C5  ...   N1   N2   N3   N4  \\\n",
       "0  2.0  4.0  3.0  4.0  4.0  2.0  3.0  3.0  4.0  4.0  ...  3.0  4.0  2.0  2.0   \n",
       "1  2.0  4.0  5.0  2.0  5.0  5.0  4.0  4.0  3.0  4.0  ...  3.0  3.0  3.0  5.0   \n",
       "2  5.0  4.0  5.0  4.0  4.0  4.0  5.0  4.0  2.0  5.0  ...  4.0  5.0  4.0  2.0   \n",
       "3  4.0  4.0  6.0  5.0  5.0  4.0  4.0  3.0  5.0  5.0  ...  2.0  5.0  2.0  4.0   \n",
       "4  2.0  3.0  3.0  4.0  5.0  4.0  4.0  5.0  3.0  2.0  ...  2.0  3.0  4.0  4.0   \n",
       "\n",
       "    N5   O1  O2   O3   O4   O5  \n",
       "0  3.0  3.0   6  3.0  4.0  3.0  \n",
       "1  5.0  4.0   2  4.0  3.0  3.0  \n",
       "2  3.0  4.0   2  5.0  5.0  2.0  \n",
       "3  1.0  3.0   3  4.0  3.0  5.0  \n",
       "4  3.0  3.0   3  4.0  3.0  3.0  \n",
       "\n",
       "[5 rows x 25 columns]"
      ]
     },
     "execution_count": 17,
     "metadata": {},
     "output_type": "execute_result"
    }
   ],
   "source": [
    "# 상위 5개만 보기\n",
    "df.head()"
   ]
  },
  {
   "cell_type": "markdown",
   "id": "6d68f1fc",
   "metadata": {},
   "source": [
    "## 적합성 검정\n",
    "요인분석을 수행하기 전에 데이터셋의 '인자 가능성'을 평가해야한다.<br>\n",
    "요인분석 가능성은 '데이터셋에서 요인을 찾을 수 있는가?'를 의미한다. <br>\n",
    "요인분석 가능성 또는 표본 추출 적합성을 확인하는 두가지 방법이 있다.\n",
    "- 바틀렛 테스트\n",
    "- KMO 테스트\n",
    "<br>\n",
    "\n",
    "바틀렛의 구면성 검정에서는 관측된 상관행렬을 사용하여 관측된 변수가 단위 행렬과 상호 관련되는지 여부를 확인한다.<br>\n",
    "검정에서 통계적으로 유의하지 않은 것으로 판명되면 요인 분석을 사용하지 말아야 한다.<br>\n",
    "KMO(Kaiser-Meyer-Olkin) 검정은 요인분석에 대한 데이터의 적합성을 측정한다. <br>\n",
    "각 관측 변수와 전체 모형에 대한 적합성을 결정한다.<br>\n",
    "KMO는 모든 관측 변수간의 분산 비율을 추정한다.<br>\n",
    "KMO값의 범위는 0에서 1사이다.<br>\n",
    "0.6 미만의 KMO값은 부적합한 것으로 간주된다."
   ]
  },
  {
   "cell_type": "code",
   "execution_count": 18,
   "id": "408d353f",
   "metadata": {},
   "outputs": [],
   "source": [
    "from factor_analyzer.factor_analyzer import calculate_bartlett_sphericity\n",
    "chi_square_value, p_value = calculate_bartlett_sphericity(df)"
   ]
  },
  {
   "cell_type": "code",
   "execution_count": 19,
   "id": "19bc6489",
   "metadata": {},
   "outputs": [
    {
     "data": {
      "text/plain": [
       "(18146.06557723538, 0.0)"
      ]
     },
     "execution_count": 19,
     "metadata": {},
     "output_type": "execute_result"
    }
   ],
   "source": [
    "chi_square_value, p_value"
   ]
  },
  {
   "cell_type": "code",
   "execution_count": 20,
   "id": "1b4eeaeb",
   "metadata": {},
   "outputs": [
    {
     "data": {
      "text/plain": [
       "0.8486452309468383"
      ]
     },
     "execution_count": 20,
     "metadata": {},
     "output_type": "execute_result"
    }
   ],
   "source": [
    "from factor_analyzer.factor_analyzer import calculate_kmo\n",
    "kmo_all, kmo_model = calculate_kmo(df)\n",
    "kmo_model"
   ]
  },
  {
   "cell_type": "code",
   "execution_count": 24,
   "id": "1c2085db",
   "metadata": {},
   "outputs": [],
   "source": [
    "# 요인 수 선택\n",
    "fa = FactorAnalyzer()"
   ]
  },
  {
   "cell_type": "code",
   "execution_count": 27,
   "id": "af24c7e9",
   "metadata": {},
   "outputs": [
    {
     "ename": "AttributeError",
     "evalue": "'FactorAnalyzer' object has no attribute 'analyze'",
     "output_type": "error",
     "traceback": [
      "\u001b[1;31m---------------------------------------------------------------------------\u001b[0m",
      "\u001b[1;31mAttributeError\u001b[0m                            Traceback (most recent call last)",
      "\u001b[1;32m~\\AppData\\Local\\Temp/ipykernel_7040/370707937.py\u001b[0m in \u001b[0;36m<module>\u001b[1;34m\u001b[0m\n\u001b[1;32m----> 1\u001b[1;33m \u001b[0mfa\u001b[0m\u001b[1;33m.\u001b[0m\u001b[0manalyze\u001b[0m\u001b[1;33m(\u001b[0m\u001b[0mdf\u001b[0m\u001b[1;33m,\u001b[0m \u001b[1;36m25\u001b[0m\u001b[1;33m,\u001b[0m \u001b[0mrotation\u001b[0m \u001b[1;33m=\u001b[0m \u001b[1;32mNone\u001b[0m\u001b[1;33m)\u001b[0m\u001b[1;33m\u001b[0m\u001b[1;33m\u001b[0m\u001b[0m\n\u001b[0m",
      "\u001b[1;31mAttributeError\u001b[0m: 'FactorAnalyzer' object has no attribute 'analyze'"
     ]
    }
   ],
   "source": [
    "fa.analyze(df, 25, rotation = None)"
   ]
  },
  {
   "cell_type": "code",
   "execution_count": null,
   "id": "cfc5c620",
   "metadata": {},
   "outputs": [],
   "source": []
  }
 ],
 "metadata": {
  "kernelspec": {
   "display_name": "Python 3 (ipykernel)",
   "language": "python",
   "name": "python3"
  },
  "language_info": {
   "codemirror_mode": {
    "name": "ipython",
    "version": 3
   },
   "file_extension": ".py",
   "mimetype": "text/x-python",
   "name": "python",
   "nbconvert_exporter": "python",
   "pygments_lexer": "ipython3",
   "version": "3.9.7"
  }
 },
 "nbformat": 4,
 "nbformat_minor": 5
}
