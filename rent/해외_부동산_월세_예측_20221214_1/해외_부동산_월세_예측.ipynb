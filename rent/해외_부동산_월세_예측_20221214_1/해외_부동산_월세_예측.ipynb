{
 "cells": [
  {
   "cell_type": "markdown",
   "id": "0536a421",
   "metadata": {},
   "source": [
    "# 라이브러리 불러오기"
   ]
  },
  {
   "cell_type": "code",
   "execution_count": 104,
   "id": "458bf47d",
   "metadata": {},
   "outputs": [],
   "source": [
    "import pandas as pd\n",
    "from sklearn.model_selection import train_test_split\n",
    "from sklearn.metrics import mean_absolute_error\n",
    "from supervised.automl import AutoML"
   ]
  },
  {
   "cell_type": "markdown",
   "id": "ddc0a604",
   "metadata": {},
   "source": [
    "# 데이터 불러오기"
   ]
  },
  {
   "cell_type": "code",
   "execution_count": 101,
   "id": "6a17601b",
   "metadata": {},
   "outputs": [],
   "source": [
    "train = pd.read_csv('train.csv')\n",
    "test = pd.read_csv('test.csv')\n",
    "submission = pd.read_csv('sample_submission.csv')"
   ]
  },
  {
   "cell_type": "markdown",
   "id": "4c43f4a9",
   "metadata": {},
   "source": [
    "# 시드 고정"
   ]
  },
  {
   "cell_type": "code",
   "execution_count": 102,
   "id": "95bfacb1",
   "metadata": {},
   "outputs": [],
   "source": [
    "def seed_everything(seed):\n",
    "    random.seed(seed)\n",
    "    os.environ['PYTHONHASHSEED'] = str(seed)\n",
    "    np.random.seed(seed)\n",
    "\n",
    "seed_everything(38) # Seed 고정"
   ]
  },
  {
   "cell_type": "markdown",
   "id": "e69bd199",
   "metadata": {},
   "source": [
    "# data load"
   ]
  },
  {
   "cell_type": "code",
   "execution_count": 103,
   "id": "76bc4348",
   "metadata": {},
   "outputs": [],
   "source": [
    "x_train = train.drop(columns=['ID', 'monthlyRent(us_dollar)'])\n",
    "y_train = train['monthlyRent(us_dollar)']\n",
    "x_test = pd.read_csv('./test.csv').drop(columns=['ID'])"
   ]
  },
  {
   "cell_type": "code",
   "execution_count": 105,
   "id": "9c78ec2a",
   "metadata": {},
   "outputs": [
    {
     "name": "stdout",
     "output_type": "stream",
     "text": [
      "Done.\n"
     ]
    }
   ],
   "source": [
    "# qualitative column one-hot encoding\n",
    "qual_col = ['propertyType','suburbName']\n",
    "ohe = OneHotEncoder(sparse=False)\n",
    "\n",
    "for i in qual_col:\n",
    "    x_train = pd.concat([x_train, pd.DataFrame(ohe.fit_transform(x_train[[i]]), columns=ohe.categories_[0])], axis=1)\n",
    "    \n",
    "    for qual_value in np.unique(x_test[i]): \n",
    "        if qual_value not in np.unique(ohe.categories_): \n",
    "            ohe.categories_ = np.append(ohe.categories_, qual_value)\n",
    "    # One Hot Encoder가 Test 데이터로부터 Fitting되는 것은 Data Leakage이므로, Test 데이터에는 Train 데이터로 Fitting된 One Hot Encoder로부터 transform만 수행되어야 합니다.\n",
    "    x_test = pd.concat([x_test, pd.DataFrame(ohe.transform(x_test[[i]]), columns=ohe.categories_[0])], axis=1)\n",
    "    \n",
    "x_train = x_train.drop(qual_col, axis=1)\n",
    "x_test = x_test.drop(qual_col, axis=1)\n",
    "print('Done.')"
   ]
  },
  {
   "cell_type": "code",
   "execution_count": 106,
   "id": "ce9e5156",
   "metadata": {},
   "outputs": [],
   "source": [
    "# train 데아터와 검증 데이터로 분할\n",
    "x_train, x_val, y_train, y_val = train_test_split(x_train, y_train, test_size=0.2)"
   ]
  },
  {
   "cell_type": "code",
   "execution_count": 107,
   "id": "0d574356",
   "metadata": {},
   "outputs": [
    {
     "name": "stdout",
     "output_type": "stream",
     "text": [
      "AutoML directory: AutoML_1\n",
      "The task is regression with evaluation metric mae\n",
      "AutoML will use algorithms: ['Decision Tree', 'Linear', 'Random Forest', 'Extra Trees', 'LightGBM', 'Xgboost', 'CatBoost', 'Neural Network', 'Nearest Neighbors']\n",
      "AutoML will stack models\n",
      "AutoML will ensemble available models\n",
      "AutoML steps: ['adjust_validation', 'simple_algorithms', 'default_algorithms', 'not_so_random', 'golden_features', 'kmeans_features', 'insert_random_feature', 'features_selection', 'hill_climbing_1', 'hill_climbing_2', 'boost_on_errors', 'ensemble', 'stack', 'ensemble_stacked']\n",
      "* Step adjust_validation will try to check up to 1 model\n",
      "1_DecisionTree mae 87.005346 trained in 1.42 seconds\n",
      "Adjust validation. Remove: 1_DecisionTree\n",
      "Validation strategy: 10-fold CV Shuffle\n",
      "* Step simple_algorithms will try to check up to 4 models\n",
      "1_DecisionTree mae 85.189415 trained in 4.43 seconds\n",
      "2_DecisionTree mae 79.942788 trained in 4.28 seconds\n",
      "3_DecisionTree mae 79.942788 trained in 4.13 seconds\n",
      "4_Linear mae 98.707717 trained in 5.51 seconds\n",
      "* Step default_algorithms will try to check up to 7 models\n",
      "5_Default_LightGBM mae 57.558628 trained in 9.68 seconds\n",
      "6_Default_Xgboost mae 57.883491 trained in 11.47 seconds\n",
      "7_Default_CatBoost mae 56.680705 trained in 27.79 seconds\n",
      "8_Default_NeuralNetwork mae 66.560744 trained in 32.54 seconds\n",
      "9_Default_RandomForest mae 73.935226 trained in 13.69 seconds\n",
      "10_Default_ExtraTrees mae 83.886728 trained in 8.66 seconds\n",
      "There was an error during 11_Default_NearestNeighbors training.\n",
      "Please check AutoML_1\\errors.md for details.\n",
      "* Step not_so_random will try to check up to 63 models\n",
      "20_LightGBM mae 58.160189 trained in 9.77 seconds\n",
      "11_Xgboost mae 57.783878 trained in 10.99 seconds\n",
      "29_CatBoost mae 56.39783 trained in 115.94 seconds\n",
      "38_RandomForest mae 73.809455 trained in 10.89 seconds\n",
      "47_ExtraTrees mae 91.729137 trained in 8.6 seconds\n",
      "56_NeuralNetwork mae 67.499051 trained in 10.49 seconds\n",
      "There was an error during 65_NearestNeighbors training.\n",
      "Please check AutoML_1\\errors.md for details.\n",
      "21_LightGBM mae 57.767267 trained in 9.44 seconds\n",
      "12_Xgboost mae 58.17108 trained in 14.4 seconds\n",
      "30_CatBoost mae 56.385772 trained in 30.2 seconds\n",
      "39_RandomForest mae 80.529168 trained in 13.2 seconds\n",
      "48_ExtraTrees mae 102.96493 trained in 15.35 seconds\n",
      "57_NeuralNetwork mae 64.005316 trained in 14.05 seconds\n",
      "There was an error during 66_NearestNeighbors training.\n",
      "Please check AutoML_1\\errors.md for details.\n",
      "22_LightGBM mae 57.990328 trained in 12.03 seconds\n",
      "13_Xgboost mae 57.52041 trained in 11.98 seconds\n",
      "31_CatBoost mae 56.388589 trained in 24.03 seconds\n",
      "40_RandomForest mae 66.433794 trained in 14.2 seconds\n",
      "49_ExtraTrees mae 71.191272 trained in 10.4 seconds\n",
      "58_NeuralNetwork mae 67.123762 trained in 18.03 seconds\n",
      "There was an error during 67_NearestNeighbors training.\n",
      "Please check AutoML_1\\errors.md for details.\n",
      "23_LightGBM mae 57.921336 trained in 37.22 seconds\n",
      "14_Xgboost mae 58.538897 trained in 62.91 seconds\n",
      "32_CatBoost mae 57.251771 trained in 80.69 seconds\n",
      "41_RandomForest mae 65.462049 trained in 13.78 seconds\n",
      "50_ExtraTrees mae 77.300716 trained in 11.87 seconds\n",
      "59_NeuralNetwork mae 68.08901 trained in 12.49 seconds\n",
      "There was an error during 68_NearestNeighbors training.\n",
      "Please check AutoML_1\\errors.md for details.\n",
      "24_LightGBM mae 57.861495 trained in 10.13 seconds\n",
      "15_Xgboost mae 58.129699 trained in 15.63 seconds\n",
      "33_CatBoost mae 57.095595 trained in 36.11 seconds\n",
      "42_RandomForest mae 63.332241 trained in 19.75 seconds\n",
      "51_ExtraTrees mae 69.691611 trained in 10.52 seconds\n",
      "60_NeuralNetwork mae 64.488094 trained in 14.17 seconds\n",
      "There was an error during 69_NearestNeighbors training.\n",
      "Please check AutoML_1\\errors.md for details.\n",
      "25_LightGBM mae 57.025716 trained in 15.07 seconds\n",
      "16_Xgboost mae 58.365641 trained in 18.77 seconds\n",
      "34_CatBoost mae 59.011597 trained in 29.58 seconds\n",
      "43_RandomForest mae 64.211739 trained in 28.52 seconds\n",
      "52_ExtraTrees mae 68.838426 trained in 27.1 seconds\n",
      "61_NeuralNetwork mae 64.173547 trained in 29.16 seconds\n",
      "There was an error during 70_NearestNeighbors training.\n",
      "Please check AutoML_1\\errors.md for details.\n",
      "26_LightGBM mae 58.043891 trained in 21.21 seconds\n",
      "17_Xgboost mae 57.245174 trained in 24.43 seconds\n",
      "35_CatBoost mae 56.168368 trained in 81.82 seconds\n",
      "44_RandomForest mae 73.220325 trained in 29.75 seconds\n",
      "53_ExtraTrees mae 86.968274 trained in 11.1 seconds\n",
      "62_NeuralNetwork mae 65.15646 trained in 14.27 seconds\n",
      "There was an error during 71_NearestNeighbors training.\n",
      "Please check AutoML_1\\errors.md for details.\n",
      "27_LightGBM mae 57.206135 trained in 10.42 seconds\n",
      "18_Xgboost mae 58.434328 trained in 13.04 seconds\n",
      "36_CatBoost mae 56.796767 trained in 30.96 seconds\n",
      "45_RandomForest mae 73.331328 trained in 15.16 seconds\n",
      "54_ExtraTrees mae 91.905684 trained in 12.55 seconds\n",
      "63_NeuralNetwork mae 66.276342 trained in 25.09 seconds\n",
      "There was an error during 72_NearestNeighbors training.\n",
      "Please check AutoML_1\\errors.md for details.\n",
      "28_LightGBM mae 58.151608 trained in 25.68 seconds\n",
      "19_Xgboost mae 56.858588 trained in 15.95 seconds\n",
      "37_CatBoost mae 56.426048 trained in 86.44 seconds\n",
      "46_RandomForest mae 63.138752 trained in 15.99 seconds\n",
      "55_ExtraTrees mae 73.007092 trained in 12.46 seconds\n",
      "64_NeuralNetwork mae 68.062701 trained in 14.53 seconds\n",
      "There was an error during 73_NearestNeighbors training.\n",
      "Please check AutoML_1\\errors.md for details.\n",
      "* Step golden_features will try to check up to 3 models\n",
      "None 10\n",
      "Add Golden Feature: distanceRailway(km)_diff_area(square_meters)\n",
      "Add Golden Feature: area(square_meters)_multiply_longitude\n",
      "Add Golden Feature: area(square_meters)_sum_longitude\n",
      "Add Golden Feature: area(square_meters)_diff_Dwarka\n",
      "Add Golden Feature: area(square_meters)_multiply_latitude\n",
      "Add Golden Feature: distanceMetro(km)_diff_area(square_meters)\n",
      "Add Golden Feature: area(square_meters)_sum_latitude\n",
      "Add Golden Feature: area(square_meters)_diff_West Delhi\n",
      "Add Golden Feature: Other_sum_area(square_meters)\n",
      "Add Golden Feature: longitude_diff_area(square_meters)\n",
      "Created 10 Golden Features in 12.8 seconds.\n",
      "35_CatBoost_GoldenFeatures mae 56.21402 trained in 150.23 seconds\n",
      "30_CatBoost_GoldenFeatures mae 56.790861 trained in 57.82 seconds\n",
      "31_CatBoost_GoldenFeatures mae 56.712085 trained in 38.93 seconds\n",
      "* Step kmeans_features will try to check up to 3 models\n",
      "35_CatBoost_KMeansFeatures mae 57.399675 trained in 267.04 seconds\n",
      "30_CatBoost_KMeansFeatures mae 57.729525 trained in 79.21 seconds\n",
      "* Step insert_random_feature will try to check up to 1 model\n",
      "35_CatBoost_RandomFeature mae 57.629831 trained in 74.66 seconds\n",
      "Drop features ['Dwarka', 'West Delhi', 'random_feature', 'Delhi North', 'Rohini', 'South West Delhi', 'Villa', 'Independent House', 'North Delhi']\n",
      "* Step features_selection will try to check up to 6 models\n",
      "35_CatBoost_SelectedFeatures mae 56.285213 trained in 63.66 seconds\n",
      "19_Xgboost_SelectedFeatures mae 56.935858 trained in 17.77 seconds\n",
      "25_LightGBM_SelectedFeatures mae 57.127282 trained in 16.59 seconds\n",
      "46_RandomForest_SelectedFeatures mae 62.903649 trained in 18.41 seconds\n",
      "57_NeuralNetwork_SelectedFeatures mae 64.527626 trained in 15.7 seconds\n",
      "* Step hill_climbing_1 will try to check up to 26 models\n",
      "65_CatBoost mae 56.21068 trained in 115.52 seconds\n",
      "66_CatBoost_GoldenFeatures mae 56.410114 trained in 200.75 seconds\n",
      "* Step hill_climbing_2 will try to check up to 30 models\n",
      "67_CatBoost mae 56.698027 trained in 58.33 seconds\n",
      "68_CatBoost mae 56.236707 trained in 113.98 seconds\n",
      "69_CatBoost mae 56.534753 trained in 74.54 seconds\n",
      "* Step boost_on_errors will try to check up to 1 model\n",
      "35_CatBoost_BoostOnErrors mae 56.416337 trained in 69.12 seconds\n",
      "* Step ensemble will try to check up to 1 model\n",
      "Ensemble mae 54.892206 trained in 11.42 seconds\n",
      "* Step stack will try to check up to 59 models\n",
      "35_CatBoost_Stacked mae 55.757884 trained in 125.84 seconds\n",
      "19_Xgboost_Stacked mae 56.467075 trained in 24.88 seconds\n",
      "25_LightGBM_Stacked mae 56.868293 trained in 18.03 seconds\n",
      "46_RandomForest_SelectedFeatures_Stacked mae 55.87958 trained in 33.83 seconds\n",
      "57_NeuralNetwork_Stacked mae 605.79491 trained in 34.69 seconds\n",
      "52_ExtraTrees_Stacked mae 55.683175 trained in 23.23 seconds\n",
      "65_CatBoost_Stacked mae 55.894423 trained in 149.4 seconds\n",
      "19_Xgboost_SelectedFeatures_Stacked mae 56.781931 trained in 24.96 seconds\n"
     ]
    },
    {
     "name": "stdout",
     "output_type": "stream",
     "text": [
      "25_LightGBM_SelectedFeatures_Stacked mae 56.953842 trained in 17.67 seconds\n",
      "46_RandomForest_Stacked mae 55.96025 trained in 38.52 seconds\n",
      "61_NeuralNetwork_Stacked mae 158.411108 trained in 27.66 seconds\n",
      "51_ExtraTrees_Stacked mae 55.554178 trained in 29.06 seconds\n",
      "35_CatBoost_GoldenFeatures_Stacked not trained. Stop training after the first fold. Time needed to train on the first fold 15.0 seconds. The time estimate for training on all folds is larger than total_time_limit.\n",
      "* Step ensemble_stacked will try to check up to 1 model\n",
      "Ensemble_Stacked mae 54.878054 trained in 16.64 seconds\n",
      "AutoML fit time: 3637.12 seconds\n",
      "AutoML best model: Ensemble_Stacked\n"
     ]
    },
    {
     "data": {
      "text/plain": [
       "AutoML(eval_metric='mae', mode='Compete')"
      ]
     },
     "execution_count": 107,
     "metadata": {},
     "output_type": "execute_result"
    }
   ],
   "source": [
    "# automl 모델 생성\n",
    "automl = AutoML(mode = 'Compete', eval_metric='mae')\n",
    "automl.fit(x_train, y_train)"
   ]
  },
  {
   "cell_type": "code",
   "execution_count": 110,
   "id": "a0c23cde",
   "metadata": {},
   "outputs": [],
   "source": [
    "# 생성된 모델을 test로 예측하기\n",
    "pred = automl.predict(x_test)\n",
    "submission['monthlyRent(us_dollar)'] = pred\n",
    "# 제출파일 생성\n",
    "submission.to_csv('./result3_20221214.csv', index=False)"
   ]
  },
  {
   "cell_type": "code",
   "execution_count": 89,
   "id": "90441ed4",
   "metadata": {},
   "outputs": [
    {
     "data": {
      "image/png": "[encoded data removed]",
      "text/plain": [
       "<Figure size 576x432 with 1 Axes>"
      ]
     },
     "metadata": {
      "needs_background": "light"
     },
     "output_type": "display_data"
    }
   ],
   "source": [
    "# 변수중요도\n",
    "importances_values = model.feature_importances_\n",
    "importances = pd.Series(importances_values, index = x_train.columns)\n",
    "top20 = importances.sort_values(ascending = False)\n",
    "plt.figure(figsize=(8,6))\n",
    "plt.title('Feature importances')\n",
    "sns.barplot(x = top20, y = top20.index)\n",
    "plt.show()"
   ]
  },
  {
   "cell_type": "code",
   "execution_count": 95,
   "id": "2f91d008",
   "metadata": {},
   "outputs": [
    {
     "data": {
      "text/plain": [
       "0       28.644199\n",
       "1       28.724508\n",
       "2       28.672693\n",
       "3       28.645021\n",
       "4       28.607435\n",
       "          ...    \n",
       "8688    28.586784\n",
       "8689    28.646486\n",
       "8690    28.727852\n",
       "8691    28.698778\n",
       "8692    28.526319\n",
       "Name: latitude, Length: 8693, dtype: float64"
      ]
     },
     "execution_count": 95,
     "metadata": {},
     "output_type": "execute_result"
    }
   ],
   "source": [
    "x_test.latitude"
   ]
  },
  {
   "cell_type": "code",
   "execution_count": 99,
   "id": "b0c56834",
   "metadata": {},
   "outputs": [
    {
     "data": {
      "text/plain": [
       "4945"
      ]
     },
     "execution_count": 99,
     "metadata": {},
     "output_type": "execute_result"
    }
   ],
   "source": [
    "x_test.latitude.nunique()"
   ]
  },
  {
   "cell_type": "code",
   "execution_count": null,
   "id": "73dc5ffa",
   "metadata": {},
   "outputs": [],
   "source": []
  }
 ],
 "metadata": {
  "kernelspec": {
   "display_name": "Python 3 (ipykernel)",
   "language": "python",
   "name": "python3"
  },
  "language_info": {
   "codemirror_mode": {
    "name": "ipython",
    "version": 3
   },
   "file_extension": ".py",
   "mimetype": "text/x-python",
   "name": "python",
   "nbconvert_exporter": "python",
   "pygments_lexer": "ipython3",
   "version": "3.9.12"
  }
 },
 "nbformat": 4,
 "nbformat_minor": 5
}
