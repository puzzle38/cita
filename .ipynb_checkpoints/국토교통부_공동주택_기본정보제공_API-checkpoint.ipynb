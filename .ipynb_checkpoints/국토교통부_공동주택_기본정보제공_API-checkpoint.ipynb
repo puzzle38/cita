{
 "cells": [
  {
   "cell_type": "code",
   "execution_count": 1,
   "id": "496818f6",
   "metadata": {},
   "outputs": [],
   "source": [
    "# 라이브러리 불러오기\n",
    "import requests\n",
    "from bs4 import BeautifulSoup\n",
    "import pandas as pd\n",
    "import pprint\n",
    "import bs4"
   ]
  },
  {
   "cell_type": "code",
   "execution_count": 2,
   "id": "13c6f362",
   "metadata": {},
   "outputs": [],
   "source": [
    "# 요청변수 지정\n",
    "url = 'http://apis.data.go.kr/1613000/AptBasisInfoService1/getAphusBassInfo?'\n",
    "kaptcode = 'kaptCode='\n",
    "servicekey = '&serviceKey=UJTS9gkwTNmntwhu0ZAqujfqoUAk%2B%2Byzanzu4PXR0%2BjFgpjjwa484p4FNbK10R6dNdyt7DQ1HeuyPt9oUc2cAA%3D%3D'"
   ]
  },
  {
   "cell_type": "code",
   "execution_count": null,
   "id": "fa43a62f",
   "metadata": {},
   "outputs": [],
   "source": []
  }
 ],
 "metadata": {
  "kernelspec": {
   "display_name": "Python 3 (ipykernel)",
   "language": "python",
   "name": "python3"
  },
  "language_info": {
   "codemirror_mode": {
    "name": "ipython",
    "version": 3
   },
   "file_extension": ".py",
   "mimetype": "text/x-python",
   "name": "python",
   "nbconvert_exporter": "python",
   "pygments_lexer": "ipython3",
   "version": "3.9.12"
  },
  "toc": {
   "base_numbering": 1,
   "nav_menu": {},
   "number_sections": true,
   "sideBar": true,
   "skip_h1_title": false,
   "title_cell": "Table of Contents",
   "title_sidebar": "Contents",
   "toc_cell": false,
   "toc_position": {},
   "toc_section_display": true,
   "toc_window_display": false
  }
 },
 "nbformat": 4,
 "nbformat_minor": 5
}
