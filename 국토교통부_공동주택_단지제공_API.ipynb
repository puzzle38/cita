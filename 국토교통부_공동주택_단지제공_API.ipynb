{
 "cells": [
  {
   "cell_type": "code",
   "execution_count": 1,
   "id": "4f0dfabf",
   "metadata": {},
   "outputs": [],
   "source": [
    "# 라이브러리 불러오기\n",
    "import requests\n",
    "from bs4 import BeautifulSoup\n",
    "import pandas as pd\n",
    "import pprint\n",
    "import bs4"
   ]
  },
  {
   "cell_type": "code",
   "execution_count": 55,
   "id": "06d2159e",
   "metadata": {},
   "outputs": [],
   "source": [
    "# 요청변수 지정\n",
    "url = 'http://apis.data.go.kr/1613000/AptListService2/getLegaldongAptList?'\n",
    "bjdcode = 'bjdCode=4413310300&'\n",
    "servicekey = '&ServiceKey=UJTS9gkwTNmntwhu0ZAqujfqoUAk%2B%2Byzanzu4PXR0%2BjFgpjjwa484p4FNbK10R6dNdyt7DQ1HeuyPt9oUc2cAA%3D%3D'"
   ]
  },
  {
   "cell_type": "code",
   "execution_count": 65,
   "id": "652a3f77",
   "metadata": {},
   "outputs": [],
   "source": [
    "# url 받아오기\n",
    "result = requests.get(url + bjdcode + \"&numOfRows=100\" + servicekey)"
   ]
  },
  {
   "cell_type": "code",
   "execution_count": 57,
   "id": "f01726d7",
   "metadata": {},
   "outputs": [
    {
     "data": {
      "text/plain": [
       "<Response [200]>"
      ]
     },
     "execution_count": 57,
     "metadata": {},
     "output_type": "execute_result"
    }
   ],
   "source": [
    "result"
   ]
  },
  {
   "cell_type": "code",
   "execution_count": 58,
   "id": "7bcbb825",
   "metadata": {},
   "outputs": [],
   "source": [
    "content = result.text\n",
    "pp = pprint.PrettyPrinter(indent=4)\n",
    "soup = bs4.BeautifulSoup(content, 'lxml-xml')\n",
    "rows = soup.findAll(\"item\")"
   ]
  },
  {
   "cell_type": "code",
   "execution_count": 59,
   "id": "7b7976e0",
   "metadata": {},
   "outputs": [
    {
     "data": {
      "text/plain": [
       "[<item><as1>충청남도</as1><as2>천안서북구</as2><as3>백석동</as3><bjdCode>4413310300</bjdCode><kaptCode>A33178704</kaptCode><kaptName>백석벽산블루밍1차</kaptName></item>,\n",
       " <item><as1>충청남도</as1><as2>천안서북구</as2><as3>백석동</as3><bjdCode>4413310300</bjdCode><kaptCode>A33178708</kaptCode><kaptName>백석아이파크</kaptName></item>,\n",
       " <item><as1>충청남도</as1><as2>천안서북구</as2><as3>백석동</as3><bjdCode>4413310300</bjdCode><kaptCode>A33178705</kaptCode><kaptName>백석현대</kaptName></item>,\n",
       " <item><as1>충청남도</as1><as2>천안서북구</as2><as3>백석동</as3><bjdCode>4413310300</bjdCode><kaptCode>A33178701</kaptCode><kaptName>백석그린빌2차</kaptName></item>,\n",
       " <item><as1>충청남도</as1><as2>천안서북구</as2><as3>백석동</as3><bjdCode>4413310300</bjdCode><kaptCode>A33178706</kaptCode><kaptName>백석벽산블루밍2차</kaptName></item>,\n",
       " <item><as1>충청남도</as1><as2>천안서북구</as2><as3>백석동</as3><bjdCode>4413310300</bjdCode><kaptCode>A33178709</kaptCode><kaptName>천안백석3차</kaptName></item>,\n",
       " <item><as1>충청남도</as1><as2>천안서북구</as2><as3>백석동</as3><bjdCode>4413310300</bjdCode><kaptCode>A33178710</kaptCode><kaptName>백석푸르지오</kaptName></item>,\n",
       " <item><as1>충청남도</as1><as2>천안서북구</as2><as3>백석동</as3><bjdCode>4413310300</bjdCode><kaptCode>A33178711</kaptCode><kaptName>천안백석계룡리슈빌</kaptName></item>,\n",
       " <item><as1>충청남도</as1><as2>천안서북구</as2><as3>백석동</as3><bjdCode>4413310300</bjdCode><kaptCode>A33178707</kaptCode><kaptName>브라운스톤천안아파트</kaptName></item>,\n",
       " <item><as1>충청남도</as1><as2>천안서북구</as2><as3>백석동</as3><bjdCode>4413310300</bjdCode><kaptCode>A33178702</kaptCode><kaptName>백석그린빌1차</kaptName></item>,\n",
       " <item><as1>충청남도</as1><as2>천안서북구</as2><as3>백석동</as3><bjdCode>4413310300</bjdCode><kaptCode>A33178703</kaptCode><kaptName>백석호반리젠시빌</kaptName></item>,\n",
       " <item><as1>충청남도</as1><as2>천안서북구</as2><as3>백석동</as3><bjdCode>4413310300</bjdCode><kaptCode>A33178712</kaptCode><kaptName>백석마을중흥에스-클래스</kaptName></item>,\n",
       " <item><as1>충청남도</as1><as2>천안서북구</as2><as3>백석동</as3><bjdCode>4413310300</bjdCode><kaptCode>A33178713</kaptCode><kaptName>천안백석2차아이파크</kaptName></item>,\n",
       " <item><as1>충청남도</as1><as2>천안서북구</as2><as3>백석동</as3><bjdCode>4413310300</bjdCode><kaptCode>A10026979</kaptCode><kaptName>천안백석3차아이파크아파트</kaptName></item>,\n",
       " <item><as1>충청남도</as1><as2>천안서북구</as2><as3>백석동</as3><bjdCode>4413310300</bjdCode><kaptCode>A10027338</kaptCode><kaptName>백석더샵아파트</kaptName></item>,\n",
       " <item><as1>충청남도</as1><as2>천안서북구</as2><as3>백석동</as3><bjdCode>4413310300</bjdCode><kaptCode>A10026624</kaptCode><kaptName>천안백석 LH 천년나무1단지</kaptName></item>]"
      ]
     },
     "execution_count": 59,
     "metadata": {},
     "output_type": "execute_result"
    }
   ],
   "source": [
    "rows"
   ]
  },
  {
   "cell_type": "code",
   "execution_count": 61,
   "id": "eb623b4b",
   "metadata": {},
   "outputs": [],
   "source": [
    "row_list = []\n",
    "name_list = []\n",
    "value_list = []\n",
    "\n",
    "for i in range(0, len(rows)):\n",
    "    columns = rows[i].find_all()\n",
    "    for j in range(0, len(columns)):\n",
    "        if i == 0:\n",
    "            name_list.append(columns[j].name)\n",
    "        value_list.append(columns[j].text)\n",
    "    row_list.append(value_list)\n",
    "    value_list = []"
   ]
  },
  {
   "cell_type": "code",
   "execution_count": 62,
   "id": "d16c0d33",
   "metadata": {},
   "outputs": [],
   "source": [
    "df = pd.DataFrame(row_list, columns = name_list)"
   ]
  },
  {
   "cell_type": "code",
   "execution_count": 63,
   "id": "cf65effb",
   "metadata": {},
   "outputs": [
    {
     "data": {
      "text/html": [
       "<div>\n",
       "<style scoped>\n",
       "    .dataframe tbody tr th:only-of-type {\n",
       "        vertical-align: middle;\n",
       "    }\n",
       "\n",
       "    .dataframe tbody tr th {\n",
       "        vertical-align: top;\n",
       "    }\n",
       "\n",
       "    .dataframe thead th {\n",
       "        text-align: right;\n",
       "    }\n",
       "</style>\n",
       "<table border=\"1\" class=\"dataframe\">\n",
       "  <thead>\n",
       "    <tr style=\"text-align: right;\">\n",
       "      <th></th>\n",
       "      <th>as1</th>\n",
       "      <th>as2</th>\n",
       "      <th>as3</th>\n",
       "      <th>bjdCode</th>\n",
       "      <th>kaptCode</th>\n",
       "      <th>kaptName</th>\n",
       "    </tr>\n",
       "  </thead>\n",
       "  <tbody>\n",
       "    <tr>\n",
       "      <th>0</th>\n",
       "      <td>충청남도</td>\n",
       "      <td>천안서북구</td>\n",
       "      <td>백석동</td>\n",
       "      <td>4413310300</td>\n",
       "      <td>A33178704</td>\n",
       "      <td>백석벽산블루밍1차</td>\n",
       "    </tr>\n",
       "    <tr>\n",
       "      <th>1</th>\n",
       "      <td>충청남도</td>\n",
       "      <td>천안서북구</td>\n",
       "      <td>백석동</td>\n",
       "      <td>4413310300</td>\n",
       "      <td>A33178708</td>\n",
       "      <td>백석아이파크</td>\n",
       "    </tr>\n",
       "    <tr>\n",
       "      <th>2</th>\n",
       "      <td>충청남도</td>\n",
       "      <td>천안서북구</td>\n",
       "      <td>백석동</td>\n",
       "      <td>4413310300</td>\n",
       "      <td>A33178705</td>\n",
       "      <td>백석현대</td>\n",
       "    </tr>\n",
       "    <tr>\n",
       "      <th>3</th>\n",
       "      <td>충청남도</td>\n",
       "      <td>천안서북구</td>\n",
       "      <td>백석동</td>\n",
       "      <td>4413310300</td>\n",
       "      <td>A33178701</td>\n",
       "      <td>백석그린빌2차</td>\n",
       "    </tr>\n",
       "    <tr>\n",
       "      <th>4</th>\n",
       "      <td>충청남도</td>\n",
       "      <td>천안서북구</td>\n",
       "      <td>백석동</td>\n",
       "      <td>4413310300</td>\n",
       "      <td>A33178706</td>\n",
       "      <td>백석벽산블루밍2차</td>\n",
       "    </tr>\n",
       "    <tr>\n",
       "      <th>5</th>\n",
       "      <td>충청남도</td>\n",
       "      <td>천안서북구</td>\n",
       "      <td>백석동</td>\n",
       "      <td>4413310300</td>\n",
       "      <td>A33178709</td>\n",
       "      <td>천안백석3차</td>\n",
       "    </tr>\n",
       "    <tr>\n",
       "      <th>6</th>\n",
       "      <td>충청남도</td>\n",
       "      <td>천안서북구</td>\n",
       "      <td>백석동</td>\n",
       "      <td>4413310300</td>\n",
       "      <td>A33178710</td>\n",
       "      <td>백석푸르지오</td>\n",
       "    </tr>\n",
       "    <tr>\n",
       "      <th>7</th>\n",
       "      <td>충청남도</td>\n",
       "      <td>천안서북구</td>\n",
       "      <td>백석동</td>\n",
       "      <td>4413310300</td>\n",
       "      <td>A33178711</td>\n",
       "      <td>천안백석계룡리슈빌</td>\n",
       "    </tr>\n",
       "    <tr>\n",
       "      <th>8</th>\n",
       "      <td>충청남도</td>\n",
       "      <td>천안서북구</td>\n",
       "      <td>백석동</td>\n",
       "      <td>4413310300</td>\n",
       "      <td>A33178707</td>\n",
       "      <td>브라운스톤천안아파트</td>\n",
       "    </tr>\n",
       "    <tr>\n",
       "      <th>9</th>\n",
       "      <td>충청남도</td>\n",
       "      <td>천안서북구</td>\n",
       "      <td>백석동</td>\n",
       "      <td>4413310300</td>\n",
       "      <td>A33178702</td>\n",
       "      <td>백석그린빌1차</td>\n",
       "    </tr>\n",
       "    <tr>\n",
       "      <th>10</th>\n",
       "      <td>충청남도</td>\n",
       "      <td>천안서북구</td>\n",
       "      <td>백석동</td>\n",
       "      <td>4413310300</td>\n",
       "      <td>A33178703</td>\n",
       "      <td>백석호반리젠시빌</td>\n",
       "    </tr>\n",
       "    <tr>\n",
       "      <th>11</th>\n",
       "      <td>충청남도</td>\n",
       "      <td>천안서북구</td>\n",
       "      <td>백석동</td>\n",
       "      <td>4413310300</td>\n",
       "      <td>A33178712</td>\n",
       "      <td>백석마을중흥에스-클래스</td>\n",
       "    </tr>\n",
       "    <tr>\n",
       "      <th>12</th>\n",
       "      <td>충청남도</td>\n",
       "      <td>천안서북구</td>\n",
       "      <td>백석동</td>\n",
       "      <td>4413310300</td>\n",
       "      <td>A33178713</td>\n",
       "      <td>천안백석2차아이파크</td>\n",
       "    </tr>\n",
       "    <tr>\n",
       "      <th>13</th>\n",
       "      <td>충청남도</td>\n",
       "      <td>천안서북구</td>\n",
       "      <td>백석동</td>\n",
       "      <td>4413310300</td>\n",
       "      <td>A10026979</td>\n",
       "      <td>천안백석3차아이파크아파트</td>\n",
       "    </tr>\n",
       "    <tr>\n",
       "      <th>14</th>\n",
       "      <td>충청남도</td>\n",
       "      <td>천안서북구</td>\n",
       "      <td>백석동</td>\n",
       "      <td>4413310300</td>\n",
       "      <td>A10027338</td>\n",
       "      <td>백석더샵아파트</td>\n",
       "    </tr>\n",
       "    <tr>\n",
       "      <th>15</th>\n",
       "      <td>충청남도</td>\n",
       "      <td>천안서북구</td>\n",
       "      <td>백석동</td>\n",
       "      <td>4413310300</td>\n",
       "      <td>A10026624</td>\n",
       "      <td>천안백석 LH 천년나무1단지</td>\n",
       "    </tr>\n",
       "  </tbody>\n",
       "</table>\n",
       "</div>"
      ],
      "text/plain": [
       "     as1    as2  as3     bjdCode   kaptCode         kaptName\n",
       "0   충청남도  천안서북구  백석동  4413310300  A33178704        백석벽산블루밍1차\n",
       "1   충청남도  천안서북구  백석동  4413310300  A33178708           백석아이파크\n",
       "2   충청남도  천안서북구  백석동  4413310300  A33178705             백석현대\n",
       "3   충청남도  천안서북구  백석동  4413310300  A33178701          백석그린빌2차\n",
       "4   충청남도  천안서북구  백석동  4413310300  A33178706        백석벽산블루밍2차\n",
       "5   충청남도  천안서북구  백석동  4413310300  A33178709           천안백석3차\n",
       "6   충청남도  천안서북구  백석동  4413310300  A33178710           백석푸르지오\n",
       "7   충청남도  천안서북구  백석동  4413310300  A33178711        천안백석계룡리슈빌\n",
       "8   충청남도  천안서북구  백석동  4413310300  A33178707       브라운스톤천안아파트\n",
       "9   충청남도  천안서북구  백석동  4413310300  A33178702          백석그린빌1차\n",
       "10  충청남도  천안서북구  백석동  4413310300  A33178703         백석호반리젠시빌\n",
       "11  충청남도  천안서북구  백석동  4413310300  A33178712     백석마을중흥에스-클래스\n",
       "12  충청남도  천안서북구  백석동  4413310300  A33178713       천안백석2차아이파크\n",
       "13  충청남도  천안서북구  백석동  4413310300  A10026979    천안백석3차아이파크아파트\n",
       "14  충청남도  천안서북구  백석동  4413310300  A10027338          백석더샵아파트\n",
       "15  충청남도  천안서북구  백석동  4413310300  A10026624  천안백석 LH 천년나무1단지"
      ]
     },
     "execution_count": 63,
     "metadata": {},
     "output_type": "execute_result"
    }
   ],
   "source": [
    "df"
   ]
  },
  {
   "cell_type": "code",
   "execution_count": 64,
   "id": "457a0589",
   "metadata": {},
   "outputs": [],
   "source": [
    "df.to_csv('백석동_단지코드.csv', encoding='cp949', index=False)"
   ]
  }
 ],
 "metadata": {
  "kernelspec": {
   "display_name": "Python 3 (ipykernel)",
   "language": "python",
   "name": "python3"
  },
  "language_info": {
   "codemirror_mode": {
    "name": "ipython",
    "version": 3
   },
   "file_extension": ".py",
   "mimetype": "text/x-python",
   "name": "python",
   "nbconvert_exporter": "python",
   "pygments_lexer": "ipython3",
   "version": "3.9.12"
  },
  "toc": {
   "base_numbering": 1,
   "nav_menu": {},
   "number_sections": true,
   "sideBar": true,
   "skip_h1_title": false,
   "title_cell": "Table of Contents",
   "title_sidebar": "Contents",
   "toc_cell": false,
   "toc_position": {},
   "toc_section_display": true,
   "toc_window_display": false
  }
 },
 "nbformat": 4,
 "nbformat_minor": 5
}
