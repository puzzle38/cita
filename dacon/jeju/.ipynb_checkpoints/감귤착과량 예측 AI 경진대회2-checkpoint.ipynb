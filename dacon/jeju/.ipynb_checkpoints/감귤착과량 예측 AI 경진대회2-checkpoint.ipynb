{
 "cells": [
  {
   "cell_type": "code",
   "execution_count": 1,
   "id": "da437657",
   "metadata": {},
   "outputs": [],
   "source": [
    "# 라이브러리 불러오기\n",
    "import pandas as pd\n",
    "import numpy as np\n",
    "from sklearn.model_selection import train_test_split\n",
    "from sklearn.model_selection import GridSearchCV"
   ]
  },
  {
   "cell_type": "code",
   "execution_count": 2,
   "id": "20b05e9f",
   "metadata": {},
   "outputs": [],
   "source": [
    "# 데이터 불러오기\n",
    "train = pd.read_csv('./train.csv')\n",
    "test = pd.read_csv('./test.csv')"
   ]
  },
  {
   "cell_type": "code",
   "execution_count": 7,
   "id": "7ce76b8a",
   "metadata": {},
   "outputs": [],
   "source": [
    "# train, validaton data 만들기\n",
    "X_train = train.drop(['ID','착과량(int)'], axis=1)\n",
    "y_train = train['착과량(int)']\n",
    "x_train, x_val, y_train, y_val = train_test_split(X_train, y_train)"
   ]
  },
  {
   "cell_type": "code",
   "execution_count": 14,
   "id": "d6bb5e5e",
   "metadata": {},
   "outputs": [
    {
     "data": {
      "text/plain": [
       "GridSearchCV(cv=2, estimator=RandomForestRegressor(n_jobs=-1, random_state=38),\n",
       "             n_jobs=-1,\n",
       "             param_grid={'max_depth': (5, 8), 'min_samples_leaf': (8, 18),\n",
       "                         'min_samples_split': (8, 16),\n",
       "                         'n_estimators': (100, 200)})"
      ]
     },
     "execution_count": 14,
     "metadata": {},
     "output_type": "execute_result"
    }
   ],
   "source": [
    "# 파라미터 최적화(GridSearchCV)\n",
    "params = {\n",
    "    'n_estimators' : (100, 200),\n",
    "    'max_depth' : (5, 8),\n",
    "    'min_samples_leaf' : (8, 18),\n",
    "    'min_samples_split' : (8,16)\n",
    "}\n",
    "\n",
    "model = RandomForestRegressor(random_state = 38, n_jobs=-1)\n",
    "grid_cv = GridSearchCV(model, param_grid=params, cv=2, n_jobs=-1)\n",
    "grid_cv.fit(x_train, y_train)"
   ]
  },
  {
   "cell_type": "code",
   "execution_count": 15,
   "id": "4509d796",
   "metadata": {},
   "outputs": [
    {
     "name": "stdout",
     "output_type": "stream",
     "text": [
      "최적 하이퍼 파라미터 : {'max_depth': 8, 'min_samples_leaf': 18, 'min_samples_split': 8, 'n_estimators': 200}\n",
      "최적 예측 정확도:0.9701\n"
     ]
    }
   ],
   "source": [
    "print('최적 하이퍼 파라미터 :', grid_cv.best_params_)\n",
    "print('최적 예측 정확도:{0:.4f}'.format(grid_cv.best_score_))"
   ]
  },
  {
   "cell_type": "code",
   "execution_count": 16,
   "id": "dfba4b78",
   "metadata": {},
   "outputs": [
    {
     "data": {
      "text/plain": [
       "RandomForestRegressor(max_depth=8, min_samples_leaf=18, min_samples_split=8,\n",
       "                      n_estimators=200, random_state=38)"
      ]
     },
     "execution_count": 16,
     "metadata": {},
     "output_type": "execute_result"
    }
   ],
   "source": [
    "from sklearn.ensemble import RandomForestRegressor\n",
    "\n",
    "model = RandomForestRegressor(random_state=38, max_depth=8, min_samples_leaf=18, min_samples_split=8, n_estimators = 200)\n",
    "model.fit(x_train, y_train)"
   ]
  },
  {
   "cell_type": "code",
   "execution_count": 29,
   "id": "35f7b125",
   "metadata": {},
   "outputs": [],
   "source": [
    "pred_val = model.predict(x_val)"
   ]
  },
  {
   "cell_type": "code",
   "execution_count": 36,
   "id": "80ee2e9c",
   "metadata": {},
   "outputs": [],
   "source": [
    "# 검증데이터의 NMAE 값 \n",
    "def nmae(y_val, pred_val):\n",
    "    answer = y_val.to_numpy()\n",
    "    submission = pred_val\n",
    "    target_idx = np.where(answer!=0)\n",
    "    \n",
    "    true = answer[target_idx]\n",
    "    pred = submission[target_idx]\n",
    "    \n",
    "    score = np.mean(np.abs(true-pred)/true)\n",
    "    \n",
    "    return score"
   ]
  },
  {
   "cell_type": "code",
   "execution_count": 37,
   "id": "59d1692f",
   "metadata": {},
   "outputs": [
    {
     "data": {
      "text/plain": [
       "0.2771641925260831"
      ]
     },
     "execution_count": 37,
     "metadata": {},
     "output_type": "execute_result"
    }
   ],
   "source": [
    "nmae(y_val, pred_val)"
   ]
  },
  {
   "cell_type": "code",
   "execution_count": 38,
   "id": "8eb4673e",
   "metadata": {},
   "outputs": [],
   "source": [
    "pred = model.predict(test.drop(['ID'], axis=1))"
   ]
  },
  {
   "cell_type": "code",
   "execution_count": 40,
   "id": "9bf30748",
   "metadata": {},
   "outputs": [],
   "source": [
    "sample_submission = pd.read_csv('./sample_submission.csv')"
   ]
  },
  {
   "cell_type": "code",
   "execution_count": 41,
   "id": "078981b0",
   "metadata": {},
   "outputs": [],
   "source": [
    "sample_submission['착과량(int)'] = pred\n",
    "sample_submission.to_csv('./2차/submit.csv', index=False)"
   ]
  }
 ],
 "metadata": {
  "kernelspec": {
   "display_name": "Python 3 (ipykernel)",
   "language": "python",
   "name": "python3"
  },
  "language_info": {
   "codemirror_mode": {
    "name": "ipython",
    "version": 3
   },
   "file_extension": ".py",
   "mimetype": "text/x-python",
   "name": "python",
   "nbconvert_exporter": "python",
   "pygments_lexer": "ipython3",
   "version": "3.9.12"
  }
 },
 "nbformat": 4,
 "nbformat_minor": 5
}
