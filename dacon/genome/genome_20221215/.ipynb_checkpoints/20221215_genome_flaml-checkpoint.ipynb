{
 "cells": [
  {
   "cell_type": "code",
   "execution_count": 3,
   "id": "e1c29724",
   "metadata": {},
   "outputs": [],
   "source": [
    "import pandas as pd\n",
    "import random\n",
    "import os\n",
    "import numpy as np\n",
    "\n",
    "from sklearn import preprocessing\n",
    "# from supervised.automl import AutoML\n",
    "from flaml import AutoML"
   ]
  },
  {
   "cell_type": "code",
   "execution_count": 4,
   "id": "aeea9fe5",
   "metadata": {},
   "outputs": [],
   "source": [
    "def seed_everything(seed):\n",
    "    random.seed(seed)\n",
    "    os.environ['PYTHONHASHSEED'] = str(seed)\n",
    "    np.random.seed(seed)\n",
    "seed_everything(38) # Seed 고정"
   ]
  },
  {
   "cell_type": "code",
   "execution_count": 5,
   "id": "c92afcac",
   "metadata": {},
   "outputs": [],
   "source": [
    "train = pd.read_csv('./train.csv')\n",
    "test = pd.read_csv('./test.csv')"
   ]
  },
  {
   "cell_type": "code",
   "execution_count": 6,
   "id": "6e9e5905",
   "metadata": {},
   "outputs": [],
   "source": [
    "train = train.drop(columns = ['father', 'mother','gender'])\n",
    "test = test.drop(columns = ['father', 'mother','gender'])"
   ]
  },
  {
   "cell_type": "code",
   "execution_count": 7,
   "id": "0bf1869e",
   "metadata": {},
   "outputs": [],
   "source": [
    "def get_x_y(df):\n",
    "    if 'class' in df.columns:\n",
    "        df_x = df.drop(columns=['id', 'class'])\n",
    "        df_y = df['class']\n",
    "        return df_x, df_y\n",
    "    else:\n",
    "        df_x = df.drop(columns=['id'])\n",
    "        return df_x"
   ]
  },
  {
   "cell_type": "code",
   "execution_count": 8,
   "id": "0db64b07",
   "metadata": {},
   "outputs": [],
   "source": [
    "train_x, train_y = get_x_y(train)\n",
    "test_x = get_x_y(test)"
   ]
  },
  {
   "cell_type": "code",
   "execution_count": 9,
   "id": "e4882b57",
   "metadata": {},
   "outputs": [],
   "source": [
    "class_le = preprocessing.LabelEncoder()\n",
    "snp_le = preprocessing.LabelEncoder()\n",
    "snp_col = [f'SNP_{str(x).zfill(2)}' for x in range(1,16)]"
   ]
  },
  {
   "cell_type": "code",
   "execution_count": 10,
   "id": "ccfd6daa",
   "metadata": {},
   "outputs": [],
   "source": [
    "snp_data = []\n",
    "for col in snp_col:\n",
    "    snp_data += list(train_x[col].values)"
   ]
  },
  {
   "cell_type": "code",
   "execution_count": 11,
   "id": "a2c37920",
   "metadata": {},
   "outputs": [
    {
     "data": {
      "text/plain": [
       "LabelEncoder()"
      ]
     },
     "execution_count": 11,
     "metadata": {},
     "output_type": "execute_result"
    }
   ],
   "source": [
    "train_y = class_le.fit_transform(train_y)\n",
    "snp_le.fit(snp_data)"
   ]
  },
  {
   "cell_type": "code",
   "execution_count": 12,
   "id": "c79c442b",
   "metadata": {},
   "outputs": [],
   "source": [
    "for col in train_x.columns:\n",
    "    if col in snp_col:\n",
    "        train_x[col] = snp_le.transform(train_x[col])\n",
    "        test_x[col] = snp_le.transform(test_x[col])"
   ]
  },
  {
   "cell_type": "code",
   "execution_count": 13,
   "id": "7a40de8b",
   "metadata": {},
   "outputs": [],
   "source": [
    "automl =AutoML()"
   ]
  },
  {
   "cell_type": "code",
   "execution_count": 26,
   "id": "e36a2e9b",
   "metadata": {},
   "outputs": [],
   "source": [
    "automl_settings = {\n",
    "    'metric' : 'macro_f1',\n",
    "    'time_budget' : 1000,\n",
    "    'task' : 'multichoice-classification',\n",
    "    'seed' : 38\n",
    "}"
   ]
  },
  {
   "cell_type": "code",
   "execution_count": 30,
   "id": "fe681573",
   "metadata": {},
   "outputs": [
    {
     "name": "stderr",
     "output_type": "stream",
     "text": [
      "[flaml.automl: 12-15 14:06:51] {2599} INFO - task = classification\n",
      "2022-12-15 14:06:51,925 flaml.automl INFO task = classification\n",
      "[flaml.automl: 12-15 14:06:51] {2601} INFO - Data split method: stratified\n",
      "2022-12-15 14:06:51,926 flaml.automl INFO Data split method: stratified\n",
      "[flaml.automl: 12-15 14:06:51] {2604} INFO - Evaluation method: holdout\n",
      "2022-12-15 14:06:51,927 flaml.automl INFO Evaluation method: holdout\n",
      "[flaml.automl: 12-15 14:06:51] {2726} INFO - Minimizing error metric: log_loss\n",
      "2022-12-15 14:06:51,931 flaml.automl INFO Minimizing error metric: log_loss\n",
      "[flaml.automl: 12-15 14:06:51] {2776} WARNING - No search budget is provided via time_budget or max_iter. Training only one model per estimator. To tune hyperparameters for each estimator, please provide budget either via time_budget or max_iter.\n",
      "2022-12-15 14:06:51,932 flaml.automl WARNING No search budget is provided via time_budget or max_iter. Training only one model per estimator. To tune hyperparameters for each estimator, please provide budget either via time_budget or max_iter.\n",
      "2022-12-15 14:06:51,934 flaml.default.suggest INFO metafeature distance: 0.16690358074504638\n",
      "2022-12-15 14:06:51,935 flaml.default.suggest INFO metafeature distance: 0.16690358074504638\n",
      "2022-12-15 14:06:51,937 flaml.default.suggest INFO metafeature distance: 0.16691502364594848\n",
      "2022-12-15 14:06:51,938 flaml.default.suggest INFO metafeature distance: 0.16691502364594848\n",
      "2022-12-15 14:06:51,939 flaml.default.suggest INFO metafeature distance: 0.16691502364594848\n",
      "2022-12-15 14:06:51,941 flaml.default.suggest INFO metafeature distance: 0.16690358074504638\n",
      "[flaml.automl: 12-15 14:06:51] {2870} INFO - List of ML learners in AutoML Run: ['rf', 'lgbm', 'catboost', 'xgboost', 'extra_tree', 'xgb_limitdepth', 'lrl1']\n",
      "2022-12-15 14:06:51,941 flaml.automl INFO List of ML learners in AutoML Run: ['rf', 'lgbm', 'catboost', 'xgboost', 'extra_tree', 'xgb_limitdepth', 'lrl1']\n",
      "[flaml.automl: 12-15 14:06:51] {3166} INFO - iteration 0, current learner rf\n",
      "2022-12-15 14:06:51,944 flaml.automl INFO iteration 0, current learner rf\n",
      "[flaml.automl: 12-15 14:06:52] {3296} INFO - Estimated sufficient time budget=6901s. Estimated necessary time budget=85s.\n",
      "2022-12-15 14:06:52,635 flaml.automl INFO Estimated sufficient time budget=6901s. Estimated necessary time budget=85s.\n",
      "[flaml.automl: 12-15 14:06:52] {3343} INFO -  at 0.7s,\testimator rf's best error=0.2540,\tbest estimator rf's best error=0.2540\n",
      "2022-12-15 14:06:52,635 flaml.automl INFO  at 0.7s,\testimator rf's best error=0.2540,\tbest estimator rf's best error=0.2540\n",
      "[flaml.automl: 12-15 14:06:52] {3166} INFO - iteration 1, current learner lgbm\n",
      "2022-12-15 14:06:52,648 flaml.automl INFO iteration 1, current learner lgbm\n",
      "[flaml.automl: 12-15 14:06:52] {3343} INFO -  at 0.8s,\testimator lgbm's best error=0.5554,\tbest estimator rf's best error=0.2540\n",
      "2022-12-15 14:06:52,727 flaml.automl INFO  at 0.8s,\testimator lgbm's best error=0.5554,\tbest estimator rf's best error=0.2540\n",
      "[flaml.automl: 12-15 14:06:52] {3166} INFO - iteration 2, current learner catboost\n",
      "2022-12-15 14:06:52,727 flaml.automl INFO iteration 2, current learner catboost\n",
      "[flaml.automl: 12-15 14:06:52] {3343} INFO -  at 1.0s,\testimator catboost's best error=0.2709,\tbest estimator rf's best error=0.2540\n",
      "2022-12-15 14:06:52,958 flaml.automl INFO  at 1.0s,\testimator catboost's best error=0.2709,\tbest estimator rf's best error=0.2540\n",
      "[flaml.automl: 12-15 14:06:52] {3166} INFO - iteration 3, current learner xgboost\n",
      "2022-12-15 14:06:52,959 flaml.automl INFO iteration 3, current learner xgboost\n",
      "`use_label_encoder` is deprecated in 1.7.0.\n",
      "[flaml.automl: 12-15 14:06:56] {3343} INFO -  at 4.7s,\testimator xgboost's best error=0.2511,\tbest estimator xgboost's best error=0.2511\n",
      "2022-12-15 14:06:56,645 flaml.automl INFO  at 4.7s,\testimator xgboost's best error=0.2511,\tbest estimator xgboost's best error=0.2511\n",
      "[flaml.automl: 12-15 14:06:56] {3166} INFO - iteration 4, current learner extra_tree\n",
      "2022-12-15 14:06:56,645 flaml.automl INFO iteration 4, current learner extra_tree\n",
      "[flaml.automl: 12-15 14:06:58] {3343} INFO -  at 6.6s,\testimator extra_tree's best error=0.3147,\tbest estimator xgboost's best error=0.2511\n",
      "2022-12-15 14:06:58,526 flaml.automl INFO  at 6.6s,\testimator extra_tree's best error=0.3147,\tbest estimator xgboost's best error=0.2511\n",
      "[flaml.automl: 12-15 14:06:58] {3166} INFO - iteration 5, current learner xgb_limitdepth\n",
      "2022-12-15 14:06:58,542 flaml.automl INFO iteration 5, current learner xgb_limitdepth\n",
      "`use_label_encoder` is deprecated in 1.7.0.\n",
      "[flaml.automl: 12-15 14:06:58] {3343} INFO -  at 6.9s,\testimator xgb_limitdepth's best error=0.1642,\tbest estimator xgb_limitdepth's best error=0.1642\n",
      "2022-12-15 14:06:58,777 flaml.automl INFO  at 6.9s,\testimator xgb_limitdepth's best error=0.1642,\tbest estimator xgb_limitdepth's best error=0.1642\n",
      "[flaml.automl: 12-15 14:06:58] {3166} INFO - iteration 6, current learner lrl1\n",
      "2022-12-15 14:06:58,777 flaml.automl INFO iteration 6, current learner lrl1\n",
      "2022-12-15 14:06:58,777 flaml.tune.searcher.blendsearch INFO No low-cost partial config given to the search algorithm. For cost-frugal search, consider providing low-cost values for cost-related hps via 'low_cost_partial_config'. More info can be found at https://microsoft.github.io/FLAML/docs/FAQ#about-low_cost_partial_config-in-tune\n",
      "The max_iter was reached which means the coef_ did not converge\n",
      "[flaml.automl: 12-15 14:06:58] {3343} INFO -  at 6.9s,\testimator lrl1's best error=0.5330,\tbest estimator xgb_limitdepth's best error=0.1642\n",
      "2022-12-15 14:06:58,815 flaml.automl INFO  at 6.9s,\testimator lrl1's best error=0.5330,\tbest estimator xgb_limitdepth's best error=0.1642\n",
      "`use_label_encoder` is deprecated in 1.7.0.\n",
      "[flaml.automl: 12-15 14:06:59] {3602} INFO - retrain xgb_limitdepth for 0.2s\n",
      "2022-12-15 14:06:59,043 flaml.automl INFO retrain xgb_limitdepth for 0.2s\n",
      "[flaml.automl: 12-15 14:06:59] {3609} INFO - retrained model: XGBClassifier(base_score=0.5, booster='gbtree', callbacks=[],\n",
      "              colsample_bylevel=0.4814471959023239, colsample_bynode=1,\n",
      "              colsample_bytree=0.6050207253592859, early_stopping_rounds=None,\n",
      "              enable_categorical=False, eval_metric=None, feature_types=None,\n",
      "              gamma=0, gpu_id=-1, grow_policy='depthwise', importance_type=None,\n",
      "              interaction_constraints='', learning_rate=0.07962498837600937,\n",
      "              max_bin=256, max_cat_threshold=64, max_cat_to_onehot=4,\n",
      "              max_delta_step=0, max_depth=2, max_leaves=0,\n",
      "              min_child_weight=0.0068282719220722, missing=nan,\n",
      "              monotone_constraints='()', n_estimators=464, n_jobs=-1,\n",
      "              num_parallel_tree=1, objective='multi:softprob', predictor='auto', ...)\n",
      "2022-12-15 14:06:59,052 flaml.automl INFO retrained model: XGBClassifier(base_score=0.5, booster='gbtree', callbacks=[],\n",
      "              colsample_bylevel=0.4814471959023239, colsample_bynode=1,\n",
      "              colsample_bytree=0.6050207253592859, early_stopping_rounds=None,\n",
      "              enable_categorical=False, eval_metric=None, feature_types=None,\n",
      "              gamma=0, gpu_id=-1, grow_policy='depthwise', importance_type=None,\n",
      "              interaction_constraints='', learning_rate=0.07962498837600937,\n",
      "              max_bin=256, max_cat_threshold=64, max_cat_to_onehot=4,\n",
      "              max_delta_step=0, max_depth=2, max_leaves=0,\n",
      "              min_child_weight=0.0068282719220722, missing=nan,\n",
      "              monotone_constraints='()', n_estimators=464, n_jobs=-1,\n",
      "              num_parallel_tree=1, objective='multi:softprob', predictor='auto', ...)\n",
      "[flaml.automl: 12-15 14:06:59] {2901} INFO - fit succeeded\n",
      "2022-12-15 14:06:59,053 flaml.automl INFO fit succeeded\n",
      "[flaml.automl: 12-15 14:06:59] {2902} INFO - Time taken to find the best model: 6.866418838500977\n",
      "2022-12-15 14:06:59,054 flaml.automl INFO Time taken to find the best model: 6.866418838500977\n"
     ]
    }
   ],
   "source": [
    "automl.fit(train_x, train_y, automl_settings)"
   ]
  },
  {
   "cell_type": "code",
   "execution_count": 28,
   "id": "2c5f8fd9",
   "metadata": {},
   "outputs": [
    {
     "name": "stdout",
     "output_type": "stream",
     "text": [
      "Best ML leaner: xgb_limitdepth\n",
      "Best hyperparmeter config: {'n_estimators': 464, 'max_depth': 2, 'min_child_weight': 0.0068282719220722, 'learning_rate': 0.07962498837600937, 'subsample': 0.47139986510869014, 'colsample_bylevel': 0.4814471959023239, 'colsample_bytree': 0.6050207253592859, 'reg_alpha': 0.0010290828959872173, 'reg_lambda': 0.0103104214002687}\n",
      "Best accuracy on validation data: 0.8358\n",
      "Training duration of best run: 0.2282 s\n"
     ]
    }
   ],
   "source": [
    "print('Best ML leaner:', automl.best_estimator)\n",
    "print('Best hyperparmeter config:', automl.best_config)\n",
    "print('Best accuracy on validation data: {0:.4g}'.format(1-automl.best_loss))\n",
    "print('Training duration of best run: {0:.4g} s'.format(automl.best_config_train_time))"
   ]
  },
  {
   "cell_type": "code",
   "execution_count": 32,
   "id": "4c64df2b",
   "metadata": {},
   "outputs": [
    {
     "name": "stdout",
     "output_type": "stream",
     "text": [
      "Predicted lables [0 1 2 1 0 1 2 1 0 0 2 1 2 0 1 1 0 1 1 2 1 1 1 0 1 1 1 0 0 1 0 0 1 2 0 1 2\n",
      " 1 1 2 0 1 2 1 1 1 1 2 1 2 0 1 0 1 1 1 2 0 1 2 0 1 2 2 2 0 1 0 0 1 1 1 0 0\n",
      " 2 1 2 1 1 1 2 1 0 1 1 1 1 1 2 0 1 1 2 1 1 2 0 1 0 2 0 1 1 2 0 0 2 1 0 1 2\n",
      " 1 1 1 1 0 0 2 1 2 0 1 1 2 2 1 1 1 0 1 0 0 1 1 1 2 0 0 1 0 0 0 2 1 1 1 0 1\n",
      " 2 0 0 1 0 1 1 0 0 1 2 0 1 2 2 1 0 0 2 1 1 0 1 2 2 1 1]\n"
     ]
    }
   ],
   "source": [
    "y_pred = automl.predict(test_x)\n",
    "print('Predicted lables', y_pred)"
   ]
  },
  {
   "cell_type": "code",
   "execution_count": 37,
   "id": "cf99deba",
   "metadata": {},
   "outputs": [],
   "source": [
    "submit['class'] = class_le.inverse_transform(y_pred)"
   ]
  },
  {
   "cell_type": "code",
   "execution_count": 38,
   "id": "fd11f16c",
   "metadata": {},
   "outputs": [
    {
     "data": {
      "text/html": [
       "<div>\n",
       "<style scoped>\n",
       "    .dataframe tbody tr th:only-of-type {\n",
       "        vertical-align: middle;\n",
       "    }\n",
       "\n",
       "    .dataframe tbody tr th {\n",
       "        vertical-align: top;\n",
       "    }\n",
       "\n",
       "    .dataframe thead th {\n",
       "        text-align: right;\n",
       "    }\n",
       "</style>\n",
       "<table border=\"1\" class=\"dataframe\">\n",
       "  <thead>\n",
       "    <tr style=\"text-align: right;\">\n",
       "      <th></th>\n",
       "      <th>id</th>\n",
       "      <th>class</th>\n",
       "    </tr>\n",
       "  </thead>\n",
       "  <tbody>\n",
       "    <tr>\n",
       "      <th>0</th>\n",
       "      <td>TEST_000</td>\n",
       "      <td>A</td>\n",
       "    </tr>\n",
       "    <tr>\n",
       "      <th>1</th>\n",
       "      <td>TEST_001</td>\n",
       "      <td>B</td>\n",
       "    </tr>\n",
       "    <tr>\n",
       "      <th>2</th>\n",
       "      <td>TEST_002</td>\n",
       "      <td>C</td>\n",
       "    </tr>\n",
       "    <tr>\n",
       "      <th>3</th>\n",
       "      <td>TEST_003</td>\n",
       "      <td>B</td>\n",
       "    </tr>\n",
       "    <tr>\n",
       "      <th>4</th>\n",
       "      <td>TEST_004</td>\n",
       "      <td>A</td>\n",
       "    </tr>\n",
       "    <tr>\n",
       "      <th>...</th>\n",
       "      <td>...</td>\n",
       "      <td>...</td>\n",
       "    </tr>\n",
       "    <tr>\n",
       "      <th>170</th>\n",
       "      <td>TEST_170</td>\n",
       "      <td>B</td>\n",
       "    </tr>\n",
       "    <tr>\n",
       "      <th>171</th>\n",
       "      <td>TEST_171</td>\n",
       "      <td>C</td>\n",
       "    </tr>\n",
       "    <tr>\n",
       "      <th>172</th>\n",
       "      <td>TEST_172</td>\n",
       "      <td>C</td>\n",
       "    </tr>\n",
       "    <tr>\n",
       "      <th>173</th>\n",
       "      <td>TEST_173</td>\n",
       "      <td>B</td>\n",
       "    </tr>\n",
       "    <tr>\n",
       "      <th>174</th>\n",
       "      <td>TEST_174</td>\n",
       "      <td>B</td>\n",
       "    </tr>\n",
       "  </tbody>\n",
       "</table>\n",
       "<p>175 rows × 2 columns</p>\n",
       "</div>"
      ],
      "text/plain": [
       "           id class\n",
       "0    TEST_000     A\n",
       "1    TEST_001     B\n",
       "2    TEST_002     C\n",
       "3    TEST_003     B\n",
       "4    TEST_004     A\n",
       "..        ...   ...\n",
       "170  TEST_170     B\n",
       "171  TEST_171     C\n",
       "172  TEST_172     C\n",
       "173  TEST_173     B\n",
       "174  TEST_174     B\n",
       "\n",
       "[175 rows x 2 columns]"
      ]
     },
     "execution_count": 38,
     "metadata": {},
     "output_type": "execute_result"
    }
   ],
   "source": [
    "submit"
   ]
  },
  {
   "cell_type": "code",
   "execution_count": 39,
   "id": "ccb68ea3",
   "metadata": {},
   "outputs": [],
   "source": [
    "submit.to_csv('genome3_20221215.csv', index=False)"
   ]
  },
  {
   "cell_type": "code",
   "execution_count": 42,
   "id": "c04b2343",
   "metadata": {},
   "outputs": [
    {
     "data": {
      "text/plain": [
       "<BarContainer object of 16 artists>"
      ]
     },
     "execution_count": 42,
     "metadata": {},
     "output_type": "execute_result"
    },
    {
     "data": {
      "image/png": "[encoded data removed]",
      "text/plain": [
       "<Figure size 432x288 with 1 Axes>"
      ]
     },
     "metadata": {
      "needs_background": "light"
     },
     "output_type": "display_data"
    }
   ],
   "source": [
    "import matplotlib.pyplot as plt\n",
    "plt.barh(automl.model.estimator.feature_names_in_,automl.model.estimator.feature_importances_)"
   ]
  },
  {
   "cell_type": "code",
   "execution_count": null,
   "id": "5f3bd9e4",
   "metadata": {},
   "outputs": [],
   "source": []
  }
 ],
 "metadata": {
  "kernelspec": {
   "display_name": "Python 3 (ipykernel)",
   "language": "python",
   "name": "python3"
  },
  "language_info": {
   "codemirror_mode": {
    "name": "ipython",
    "version": 3
   },
   "file_extension": ".py",
   "mimetype": "text/x-python",
   "name": "python",
   "nbconvert_exporter": "python",
   "pygments_lexer": "ipython3",
   "version": "3.9.12"
  }
 },
 "nbformat": 4,
 "nbformat_minor": 5
}
