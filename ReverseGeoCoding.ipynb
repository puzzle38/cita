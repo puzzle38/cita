{
 "cells": [
  {
   "cell_type": "code",
   "execution_count": 57,
   "id": "25a4176d",
   "metadata": {},
   "outputs": [],
   "source": [
    "import pandas as pd\n",
    "import requests \n",
    "import sys\n",
    "import json\n",
    "import datetime"
   ]
  },
  {
   "cell_type": "code",
   "execution_count": 58,
   "id": "fef7154c",
   "metadata": {},
   "outputs": [],
   "source": [
    "def json_request(url='', encoding='utf-8', success=None, error=lambda e: print('%s : %s' % (e, datetime.now()), file=sys.stderr)):\n",
    "    headers = {'Authorization': 'KakaoAK {}'.format(APP_KEY)}\n",
    "    resp = requests.get(url, headers=headers)\n",
    "    # print('%s : success for request [%s]' % (datetime.now(), url))\n",
    "    return resp.text\n",
    "\n",
    "def reverse_geocode(longitude, latitude):\n",
    "    # 파라미터 최적화하여 url 생성\n",
    "    url = '%s?x=%s&y=%s' %(URL, longitude, latitude)\n",
    "    # json request\n",
    "    try:\n",
    "        # print('try')\n",
    "        json_req = json_request(url=url)\n",
    "        json_data = json.loads(json_req)\n",
    "        json_doc = json_data.get('documents')[1]\n",
    "        json_name = json_doc.get('address_name')\n",
    "        json_code = json_doc.get('code')\n",
    "    except:\n",
    "        # print('nan')\n",
    "        json_name = 'NaN'\n",
    "        json_code = 'NaN'\n",
    "    return json_name, json_code\n",
    "\n",
    " \n",
    "def get_address(x,y):\n",
    "    address = []        \n",
    "    json_name, json_code = reverse_geocode(x, y) \n",
    "    address.append(json_name)\n",
    "    return address # 전처리 함수에서 주소 리스트 받아서 데이터프레임에 추가\n",
    "\n",
    "\n",
    "def get_code(x,y):\n",
    "    code = []        \n",
    "    json_name, json_code = reverse_geocode(x, y) \n",
    "    code.append(json_code)\n",
    "    return code # 전처리 함수에서 행정구역코드 리스트 받아서 데이터프레임에 추가"
   ]
  },
  {
   "cell_type": "code",
   "execution_count": 51,
   "id": "9ba4d7ec",
   "metadata": {},
   "outputs": [
    {
     "name": "stderr",
     "output_type": "stream",
     "text": [
      "C:\\Users\\user\\AppData\\Local\\Temp\\ipykernel_4548\\960794178.py:13: SettingWithCopyWarning: \n",
      "A value is trying to be set on a copy of a slice from a DataFrame.\n",
      "Try using .loc[row_indexer,col_indexer] = value instead\n",
      "\n",
      "See the caveats in the documentation: https://pandas.pydata.org/pandas-docs/stable/user_guide/indexing.html#returning-a-view-versus-a-copy\n",
      "  df.loc[i, ['행정동코드']] = code\n"
     ]
    },
    {
     "name": "stdout",
     "output_type": "stream",
     "text": [
      "0 번째 경위도 좌표계에 대한 정보 불러오는 중...\n"
     ]
    }
   ],
   "source": [
    "# 행정동코드\n",
    "APP_KEY = 'c5824bd5dfb7bffcc719109fd1ada550' \n",
    "URL = 'https://dapi.kakao.com/v2/local/geo/coord2regioncode.json'\n",
    "\n",
    "df_all = pd.read_csv('C:\\Users/user/Desktop/kim/JB/외부데이터/교육/2022년도_천안시_초등학교.csv', encoding='cp949') \n",
    "df = df_all[['학교명', '경도', '위도']]\n",
    "\n",
    "\n",
    "for i in range(len(df)): \n",
    "    x_crd = float(df.loc[i, ['경도']])\n",
    "    y_crd = float(df.loc[i, ['위도']])\n",
    "    code = get_code(x_crd, y_crd)\n",
    "    df.loc[i, ['행정동코드']] = code\n",
    "    \n",
    "    if i%100 == 0:\n",
    "        print('{} 번째 경위도 좌표계에 대한 정보 불러오는 중...'.format(i))"
   ]
  },
  {
   "cell_type": "code",
   "execution_count": null,
   "id": "afc4e653",
   "metadata": {},
   "outputs": [],
   "source": []
  }
 ],
 "metadata": {
  "kernelspec": {
   "display_name": "Python 3 (ipykernel)",
   "language": "python",
   "name": "python3"
  },
  "language_info": {
   "codemirror_mode": {
    "name": "ipython",
    "version": 3
   },
   "file_extension": ".py",
   "mimetype": "text/x-python",
   "name": "python",
   "nbconvert_exporter": "python",
   "pygments_lexer": "ipython3",
   "version": "3.9.12"
  }
 },
 "nbformat": 4,
 "nbformat_minor": 5
}
